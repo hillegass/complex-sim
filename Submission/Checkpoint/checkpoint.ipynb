{
 "cells": [
  {
   "cell_type": "markdown",
   "metadata": {},
   "source": [
    "# Simulating a Predator and Prey Relationship\n",
    "\n",
    "Without a predator, rabbits will reproduce until they reach the carrying capacity of the land. When coyotes show up, they will eat the rabbits and reproduce until they can't find enough rabbits. We will explore the fluctuations in the two populations over time."
   ]
  },
  {
   "cell_type": "markdown",
   "metadata": {},
   "source": [
    "# Using Lotka-Volterra Model"
   ]
  },
  {
   "cell_type": "markdown",
   "metadata": {},
   "source": [
    "## Part 1: Rabbits without predators\n",
    "\n",
    "According to [Mother Earth News](https://www.motherearthnews.com/homesteading-and-livestock/rabbits-on-pasture-intensive-grazing-with-bunnies-zbcz1504), a rabbit eats six square feet of pasture per day. Let's assume that our rabbits live in a five acre clearing in a forest: 217,800 square feet/6 square feet = 36,300 rabbit-days worth of food. For simplicity, let's assume the grass grows back in two months. Thus, the carrying capacity of five acres is 36,300/60 = 605 rabbits.\n",
    "\n",
    "Female rabbits reproduce about six to seven times per year. They have six to ten children in a litter.  According to [Wikipedia](https://en.wikipedia.org/wiki/Rabbit), a wild rabbit reaches sexual maturity when it is about six months old and typically lives one to two years. For simplicity, let's assume that in the presence of unlimited food, a rabbit lives forever, is immediately sexually mature, and has 1.5 children every month.\n",
    "\n",
    "For our purposes, then, let $x_t$ be the number of rabbits in our five acre clearing on month $t$.\n",
    "$$\n",
    "\\begin{equation*}\n",
    "  R_t = R_{t-1} + 1.5\\frac{605 - R_{t-1}}{605} R_{t-1}\n",
    "\\end{equation*}\n",
    "$$\n",
    "\n",
    "The formula could be put into general form\n",
    "$$\n",
    "\\begin{equation*}\n",
    "  R_t = R_{t-1} + growth_{R} \\times \\big( \\frac{capacity_{R} - R_{t-1}}{capacity_{R}} \\big) R_{t-1}\n",
    "\\end{equation*}\n",
    "$$\n",
    "\n",
    "By doing this, we allow users to interact with growth rate and the capacity value visualize different interaction \n"
   ]
  },
  {
   "cell_type": "code",
   "execution_count": 2,
   "metadata": {},
   "outputs": [],
   "source": [
    "from __future__ import print_function\n",
    "from ipywidgets import interact, interactive, fixed, interact_manual\n",
    "from IPython.display import display, clear_output\n",
    "import ipywidgets as widgets\n",
    "import matplotlib.pyplot as plt\n",
    "import numpy as np"
   ]
  },
  {
   "cell_type": "code",
   "execution_count": 3,
   "metadata": {
    "scrolled": false
   },
   "outputs": [
    {
     "data": {
      "application/vnd.jupyter.widget-view+json": {
       "model_id": "648781696aff4a7588a03116c64001c0",
       "version_major": 2,
       "version_minor": 0
      },
      "text/plain": [
       "FloatText(value=1.0, description='Initial population', style=DescriptionStyle(description_width='initial'))"
      ]
     },
     "metadata": {},
     "output_type": "display_data"
    },
    {
     "data": {
      "application/vnd.jupyter.widget-view+json": {
       "model_id": "5ebdbc42f5d34fddb641e32932f23ac6",
       "version_major": 2,
       "version_minor": 0
      },
      "text/plain": [
       "FloatText(value=605.0, description='Capacity')"
      ]
     },
     "metadata": {},
     "output_type": "display_data"
    },
    {
     "data": {
      "application/vnd.jupyter.widget-view+json": {
       "model_id": "6698a3a492294b6085e8fd813d0f1d3d",
       "version_major": 2,
       "version_minor": 0
      },
      "text/plain": [
       "FloatText(value=1.5, description='Growth rate')"
      ]
     },
     "metadata": {},
     "output_type": "display_data"
    },
    {
     "data": {
      "application/vnd.jupyter.widget-view+json": {
       "model_id": "4f846051667e4ad193d1bd0e3d35c654",
       "version_major": 2,
       "version_minor": 0
      },
      "text/plain": [
       "Button(description='Plot Graph', style=ButtonStyle())"
      ]
     },
     "metadata": {},
     "output_type": "display_data"
    }
   ],
   "source": [
    "%matplotlib inline\n",
    "style = {'description_width': 'initial'}\n",
    "capacity_R = widgets.FloatText(description=\"Capacity\", value=605)\n",
    "growth_rate_R = widgets.FloatText(description=\"Growth rate\", value=1.5)\n",
    "initial_R = widgets.FloatText(description=\"Initial population\",style=style, value=1)\n",
    "button_R = widgets.Button(description=\"Plot Graph\")\n",
    "display(initial_R, capacity_R, growth_rate_R, button_R)\n",
    "\n",
    "def plot_graph_r(b):\n",
    "    print(\"helo\")\n",
    "    clear_output()\n",
    "    display(initial_R, capacity_R, growth_rate_R, button_R)\n",
    "    fig = plt.figure()\n",
    "    ax = fig.add_subplot(111)\n",
    "    t = np.arange(0, 20, 1)\n",
    "    s = np.zeros(t.shape)\n",
    "    R = initial_R.value\n",
    "    for i in range(t.shape[0]):\n",
    "        s[i] = R\n",
    "        R = R + growth_rate_R.value * (capacity_R.value - R)/(capacity_R.value) * R\n",
    "        if R < 0.0:\n",
    "            R = 0.0\n",
    "        \n",
    "    ax.plot(t, s)\n",
    "    ax.set(xlabel='time (months)', ylabel='number of rabbits',\n",
    "       title='Rabbits Without Predators')\n",
    "    ax.grid()\n",
    "\n",
    "button_R.on_click(plot_graph_r)"
   ]
  },
  {
   "cell_type": "markdown",
   "metadata": {},
   "source": [
    "## Tweaking the Growth Function\n",
    "The growth is regulated by this part of the formula:\n",
    "$$\n",
    "\\begin{equation*}\n",
    "  \\frac{capacity_{R} - R_{t-1}}{capacity_{R}}\n",
    "\\end{equation*}\n",
    "$$\n",
    "That is, this fraction (and thus growth) goes to zero when the land is at capacity. As the number of rabbits goes to zero, this fraction goes to 1.0, so growth is at its highest speed.  We could substitute in another function that has the same values at zero and at capacity, but has a different shape. For example, \n",
    "$$\n",
    "\\begin{equation*}\n",
    "  \\left( \\frac{capacity_{R} - R_{t-1}}{capacity_{R}} \\right)^{\\beta}\n",
    "\\end{equation*}\n",
    "$$\n",
    "where $\\beta$ is a positive number. For example, if $\\beta$ is 1.3, it indicates that the rabbits can sense that food supplies are dwindling and pre-emptively slow their reproduction."
   ]
  },
  {
   "cell_type": "code",
   "execution_count": 6,
   "metadata": {},
   "outputs": [
    {
     "data": {
      "application/vnd.jupyter.widget-view+json": {
       "model_id": "49e0b6dab79f4ff0adbba797c0d9e20f",
       "version_major": 2,
       "version_minor": 0
      },
      "text/plain": [
       "FloatText(value=1.0, description='Initial population', style=DescriptionStyle(description_width='initial'))"
      ]
     },
     "metadata": {},
     "output_type": "display_data"
    },
    {
     "data": {
      "application/vnd.jupyter.widget-view+json": {
       "model_id": "11d507d28ba24f0f9157b666d9d70c02",
       "version_major": 2,
       "version_minor": 0
      },
      "text/plain": [
       "FloatText(value=605.0, description='Capacity')"
      ]
     },
     "metadata": {},
     "output_type": "display_data"
    },
    {
     "data": {
      "application/vnd.jupyter.widget-view+json": {
       "model_id": "12e1eb94f5234fff9823db9924c66733",
       "version_major": 2,
       "version_minor": 0
      },
      "text/plain": [
       "FloatText(value=1.5, description='Growth rate')"
      ]
     },
     "metadata": {},
     "output_type": "display_data"
    },
    {
     "data": {
      "application/vnd.jupyter.widget-view+json": {
       "model_id": "df8a444643154272b3f1e54fb49ed257",
       "version_major": 2,
       "version_minor": 0
      },
      "text/plain": [
       "FloatText(value=2.0, description='Shaping')"
      ]
     },
     "metadata": {},
     "output_type": "display_data"
    },
    {
     "data": {
      "application/vnd.jupyter.widget-view+json": {
       "model_id": "f01656c0394548f6b3fd357ddd426ca1",
       "version_major": 2,
       "version_minor": 0
      },
      "text/plain": [
       "Button(description='Plot Graph', style=ButtonStyle())"
      ]
     },
     "metadata": {},
     "output_type": "display_data"
    },
    {
     "data": {
      "image/png": "[encoded data removed]",
      "text/plain": [
       "<Figure size 432x288 with 1 Axes>"
      ]
     },
     "metadata": {
      "needs_background": "light"
     },
     "output_type": "display_data"
    }
   ],
   "source": [
    "%matplotlib inline\n",
    "import math\n",
    "style = {'description_width': 'initial'}\n",
    "capacity_R_2 = widgets.FloatText(description=\"Capacity\", value=605)\n",
    "growth_rate_R_2 = widgets.FloatText(description=\"Growth rate\", value=1.5)\n",
    "initial_R_2 = widgets.FloatText(description=\"Initial population\",style=style, value=1)\n",
    "shaping_R_2 = widgets.FloatText(description=\"Shaping\", value=1.3)\n",
    "button_R_2 = widgets.Button(description=\"Plot Graph\")\n",
    "display(initial_R_2, capacity_R_2, growth_rate_R_2, shaping_R_2, button_R_2)\n",
    "\n",
    "def plot_graph_r(b):\n",
    "    clear_output()\n",
    "    display(initial_R_2, capacity_R_2, growth_rate_R_2, shaping_R_2, button_R_2)    \n",
    "    fig = plt.figure()\n",
    "    ax = fig.add_subplot(111)\n",
    "    t = np.arange(0, 20, 1)\n",
    "    s = np.zeros(t.shape)\n",
    "    R = initial_R_2.value\n",
    "    beta = float(shaping_R_2.value)\n",
    "    for i in range(t.shape[0]):\n",
    "        s[i] = R\n",
    "        reserve_ratio = (capacity_R_2.value - R)/capacity_R_2.value\n",
    "        if reserve_ratio > 0.0:\n",
    "            R = R + R * growth_rate_R_2.value * reserve_ratio**beta\n",
    "        else:\n",
    "            R = R - R * growth_rate_R_2.value * (-1.0 * reserve_ratio)**beta\n",
    "        if R < 0.0:\n",
    "            R = 0\n",
    "        \n",
    "    ax.plot(t, s)\n",
    "    ax.set(xlabel='time (months)', ylabel='number of rabbits',\n",
    "       title='Rabbits Without Predators (Shaped)')\n",
    "    ax.grid()\n",
    "\n",
    "button_R_2.on_click(plot_graph_r)"
   ]
  },
  {
   "cell_type": "markdown",
   "metadata": {},
   "source": [
    "## Part 2: Coyotes without Prey\n",
    "According to [Huntwise](https://www.besthuntingtimes.com/blog/2020/2/3/why-you-should-coyote-hunt-how-to-get-started), coyotes need to consume about 2-3 pounds of food per day. Their diet is 90 percent mammalian. The perfect adult cottontail rabbits weigh 2.6 pounds on average. Thus, we assume the coyote eats one rabbit per day. \n",
    "\n",
    "For coyotes, the breeding season is in February and March. According to [Wikipedia](https://en.wikipedia.org/wiki/Coyote#Social_and_reproductive_behaviors), females have a gestation period of 63 days, with an average litter size of 6, though the number fluctuates depending on coyote population density and the abundance of food. By fall, the pups are old enough to hunt for themselves.\n",
    "\n",
    "In the absence of rabbits, the number of coyotes will drop, as their food supply is scarce.\n",
    "The formula could be put into general form:\n",
    "\n",
    "$$\n",
    "\\begin{align*}\n",
    "  C_t & \\sim (1 - death_{C}) \\times C_{t-1}\\\\\n",
    "  &= C_{t-1} - death_{C} \\times C_{t-1}\n",
    "\\end{align*}\n",
    "$$\n",
    "\n"
   ]
  },
  {
   "cell_type": "code",
   "execution_count": 5,
   "metadata": {
    "scrolled": false
   },
   "outputs": [
    {
     "data": {
      "application/vnd.jupyter.widget-view+json": {
       "model_id": "7c61836320084336b3aef2f339658e4e",
       "version_major": 2,
       "version_minor": 0
      },
      "text/plain": [
       "FloatText(value=200.0, description='Initial Population', style=DescriptionStyle(description_width='initial'))"
      ]
     },
     "metadata": {},
     "output_type": "display_data"
    },
    {
     "data": {
      "application/vnd.jupyter.widget-view+json": {
       "model_id": "ab5fda834b554df7822ae9e2b877c33b",
       "version_major": 2,
       "version_minor": 0
      },
      "text/plain": [
       "FloatText(value=0.5, description='Death rate')"
      ]
     },
     "metadata": {},
     "output_type": "display_data"
    },
    {
     "data": {
      "application/vnd.jupyter.widget-view+json": {
       "model_id": "0e86086c96f94d62907228ad0c93ec72",
       "version_major": 2,
       "version_minor": 0
      },
      "text/plain": [
       "Button(description='Plot Graph', style=ButtonStyle())"
      ]
     },
     "metadata": {},
     "output_type": "display_data"
    }
   ],
   "source": [
    "%matplotlib inline\n",
    "style = {'description_width': 'initial'}\n",
    "initial_C=widgets.FloatText(description=\"Initial Population\",style=style,value=200.0)\n",
    "declining_rate_C=widgets.FloatText(description=\"Death rate\",value=0.5)\n",
    "button_C=widgets.Button(description=\"Plot Graph\")\n",
    "display(initial_C, declining_rate_C, button_C)\n",
    "\n",
    "def plot_graph_c(b):\n",
    "    clear_output()\n",
    "    display(initial_C, declining_rate_C, button_C)\n",
    "    fig = plt.figure()\n",
    "    ax = fig.add_subplot(111)\n",
    "    t1 = np.arange(0, 20, 1)\n",
    "    s1 = np.zeros(t1.shape)\n",
    "    C = initial_C.value\n",
    "    for i in range(t1.shape[0]):\n",
    "        s1[i] = C\n",
    "        C = (1 - declining_rate_C.value)*C\n",
    "        \n",
    "    ax.plot(t1, s1)\n",
    "    ax.set(xlabel='time (months)', ylabel='number of coyotes',\n",
    "       title='Coyotes Without Prey')\n",
    "    ax.grid()\n",
    "\n",
    "button_C.on_click(plot_graph_c)\n"
   ]
  },
  {
   "cell_type": "markdown",
   "metadata": {},
   "source": [
    "## Part 3: Interaction Between Coyotes and Rabbit\n",
    "With the simple interaction from the first two parts, now we can combine both interaction and come out with simple interaction.\n",
    "$$\n",
    "\\begin{align*}\n",
    "  R_t &= R_{t-1} + growth_{R} \\times \\big( \\frac{capacity_{R} - R_{t-1}}{capacity_{R}} \\big) R_{t-1} - death_{R}(C_{t-1})\\times R_{t-1}\\\\\\\\\n",
    "  C_t &= C_{t-1} - death_{C} \\times C_{t-1} + growth_{C}(R_{t-1}) \\times C_{t-1}\n",
    "\\end{align*}\n",
    "$$\n",
    "\n",
    "In equations above, death rate of rabbit is a function parameterized by the amount of coyote. Similarly, the growth rate of coyotes is a function parameterized by the amount of the rabbit.\n",
    "\n",
    "The death rate of the rabbit should be $0$ if there are no coyotes, while it should approach $1$ if there are many coyotes. One of the formula fulfilling this characteristics is hyperbolic function.\n",
    "\n",
    "$$\n",
    "\\begin{equation}\n",
    "death_R(C) = 1 - \\frac{1}{xC + 1}\n",
    "\\end{equation}\n",
    "$$\n",
    "\n",
    "where $x$ determines how quickly $death_R$ increases as the number of coyotes ($C$) increases. Similarly, the growth rate of the coyotes should be $0$ if there are no rabbits, while it should approach infinity if there are many rabbits. One of the formula fulfilling this characteristics is a linear function.\n",
    "\n",
    "$$\n",
    "\\begin{equation}\n",
    "growth_C(R) = yC\n",
    "\\end{equation}\n",
    "$$\n",
    "\n",
    "where $y$ determines how quickly $growth_C$ increases as number of rabbit ($R$) increases.\n",
    "\n",
    "Putting all together, the final equtions are\n",
    "\n",
    "$$\n",
    "\\begin{align*}\n",
    "  R_t &= R_{t-1} + growth_{R} \\times \\big( \\frac{capacity_{R} - R_{t-1}}{capacity_{R}} \\big) R_{t-1} - \\big( 1 - \\frac{1}{xC_{t-1} + 1} \\big)\\times R_{t-1}\\\\\\\\\n",
    "  C_t &= C_{t-1} - death_{C} \\times C_{t-1} + yR_{t-1}C_{t-1}\n",
    "\\end{align*}\n",
    "$$\n",
    "\n"
   ]
  },
  {
   "cell_type": "code",
   "execution_count": 4,
   "metadata": {
    "scrolled": false
   },
   "outputs": [
    {
     "data": {
      "application/vnd.jupyter.widget-view+json": {
       "model_id": "43fc5ba7abd94e269d53b55fd9949e31",
       "version_major": 2,
       "version_minor": 0
      },
      "text/plain": [
       "FloatText(value=1.0, description='Initial Rabbit', style=DescriptionStyle(description_width='initial'))"
      ]
     },
     "metadata": {},
     "output_type": "display_data"
    },
    {
     "data": {
      "application/vnd.jupyter.widget-view+json": {
       "model_id": "425d5dc1cb064cc1878aa0ece483631e",
       "version_major": 2,
       "version_minor": 0
      },
      "text/plain": [
       "FloatText(value=1.0, description='Initial Coyote', style=DescriptionStyle(description_width='initial'))"
      ]
     },
     "metadata": {},
     "output_type": "display_data"
    },
    {
     "data": {
      "application/vnd.jupyter.widget-view+json": {
       "model_id": "5bdea9881d214674aa73e18e8a6b6d47",
       "version_major": 2,
       "version_minor": 0
      },
      "text/plain": [
       "FloatText(value=5.0, description='Capacity rabbits', style=DescriptionStyle(description_width='initial'))"
      ]
     },
     "metadata": {},
     "output_type": "display_data"
    },
    {
     "data": {
      "application/vnd.jupyter.widget-view+json": {
       "model_id": "0b2863ec24bc491789b15867576f99b6",
       "version_major": 2,
       "version_minor": 0
      },
      "text/plain": [
       "FloatText(value=1.0, description='Growth rate rabbits', style=DescriptionStyle(description_width='initial'))"
      ]
     },
     "metadata": {},
     "output_type": "display_data"
    },
    {
     "data": {
      "application/vnd.jupyter.widget-view+json": {
       "model_id": "282acd5e2e614b2f9e36c1eacee180a5",
       "version_major": 2,
       "version_minor": 0
      },
      "text/plain": [
       "FloatText(value=1.0, description='Death rate coyotes', style=DescriptionStyle(description_width='initial'))"
      ]
     },
     "metadata": {},
     "output_type": "display_data"
    },
    {
     "data": {
      "application/vnd.jupyter.widget-view+json": {
       "model_id": "0e1428ae6c0d43c6b48d535b12e21103",
       "version_major": 2,
       "version_minor": 0
      },
      "text/plain": [
       "FloatText(value=1.0, description='Death rate ratio due to coyote', style=DescriptionStyle(description_width='i…"
      ]
     },
     "metadata": {},
     "output_type": "display_data"
    },
    {
     "data": {
      "application/vnd.jupyter.widget-view+json": {
       "model_id": "d0648f5275ab40e49cb1bf09e729aa15",
       "version_major": 2,
       "version_minor": 0
      },
      "text/plain": [
       "FloatText(value=1.0, description='Growth rate ratio due to rabbit', style=DescriptionStyle(description_width='…"
      ]
     },
     "metadata": {},
     "output_type": "display_data"
    },
    {
     "data": {
      "application/vnd.jupyter.widget-view+json": {
       "model_id": "f1a3a6b9e0704da69d36f1eaf8b1c66e",
       "version_major": 2,
       "version_minor": 0
      },
      "text/plain": [
       "Button(description='Plot Graph', style=ButtonStyle())"
      ]
     },
     "metadata": {},
     "output_type": "display_data"
    }
   ],
   "source": [
    "%matplotlib inline\n",
    "initial_rabbit = widgets.FloatText(description=\"Initial Rabbit\",style=style, value=1)\n",
    "initial_coyote = widgets.FloatText(description=\"Initial Coyote\",style=style, value=1)\n",
    "capacity = widgets.FloatText(description=\"Capacity rabbits\", style=style,value=5)\n",
    "growth_rate = widgets.FloatText(description=\"Growth rate rabbits\", style=style,value=1)\n",
    "death_rate = widgets.FloatText(description=\"Death rate coyotes\", style=style,value=1)\n",
    "x = widgets.FloatText(description=\"Death rate ratio due to coyote\",style=style, value=1)\n",
    "y = widgets.FloatText(description=\"Growth rate ratio due to rabbit\",style=style, value=1)\n",
    "button = widgets.Button(description=\"Plot Graph\")\n",
    "display(initial_rabbit, initial_coyote, capacity, growth_rate, death_rate, x, y, button)\n",
    "def plot_graph(b):\n",
    "    clear_output()\n",
    "    display(initial_rabbit, initial_coyote, capacity, growth_rate, death_rate, x, y, button)\n",
    "    fig = plt.figure()\n",
    "    ax = fig.add_subplot(111)\n",
    "    t = np.arange(0, 20, 0.5)\n",
    "    s = np.zeros(t.shape)\n",
    "    p = np.zeros(t.shape)\n",
    "    R = initial_rabbit.value\n",
    "    C = initial_coyote.value\n",
    "    for i in range(t.shape[0]):\n",
    "        s[i] = R\n",
    "        p[i] = C\n",
    "        R = R + growth_rate.value * (capacity.value - R)/(capacity.value) * R - (1 - 1/(x.value*C + 1))*R\n",
    "        C = C - death_rate.value * C  + y.value*s[i]*C\n",
    "        \n",
    "    ax.plot(t, s, label=\"rabit\")\n",
    "    ax.plot(t, p, label=\"coyote\")\n",
    "    ax.set(xlabel='time (months)', ylabel='population size',\n",
    "       title='Coyotes-Rabbit (Predator-Prey) Relationship')\n",
    "    ax.grid()\n",
    "    ax.legend()\n",
    "\n",
    "button.on_click(plot_graph)"
   ]
  },
  {
   "cell_type": "markdown",
   "metadata": {},
   "source": [
    "### Trajectories and Direction Fields for a system of equations \n",
    "\n",
    "To further demonstrate the predator numbers rise and fall cyclically with their preferred prey, we will be using the Lotka-Volterra equations, which is based on differential equations. The Lotka-Volterra Prey-Predator model involves two equations, one describes the changes in number of preys and the second one decribes the changes in number of predators. The dynamics of the interaction between a rabbit population $R_t$ and a coyotes $C_t$ is described by the following differential equations:\n",
    "$$\n",
    "\\begin{align*}\n",
    "\\frac{dR}{dt} = aR_t - bR_tC_t\n",
    "\\end{align*}\n",
    "$$\n",
    "\n",
    "$$\n",
    "\\begin{align*}\n",
    "\\frac{dC}{dt} = bdR_tC_t - cC_t\n",
    "\\end{align*}\n",
    "$$\n",
    "\n",
    "with the following notations:\n",
    "\n",
    "x: number of preys(rabbits)\\\n",
    "y: number of predators(coyotes)\\\n",
    "a: natural growing rate of rabbits, when there is no coyotes\\\n",
    "b: natural dying rate of rabbits, which is killed by coyotes per unit of time\\\n",
    "c: natural dying rate of coyotes, when ther is not rabbits\\\n",
    "d: natural growing rate of coyotes with which consumed prey is converted to predator\n",
    "\n",
    "We start from defining the system of ordinary differential equations, and then find the equilibrium points for our system. Equilibrium occurs when the frowth rate is 0, and we can see that we have two equilibrium points in our example, the first one happens when theres no preys or predators, which represents the extinction of both species, the second equilibrium happens when $x=\\frac{c}{b d}$ $y=\\frac{a}{b}$. Move on, we will use the scipy to help us integrate the differential equations, and generate the plot of evolution for both species:\n"
   ]
  },
  {
   "cell_type": "code",
   "execution_count": null,
   "metadata": {},
   "outputs": [],
   "source": [
    "from scipy import integrate\n",
    "\n",
    "#using the same input number from the previous example\n",
    "a = 1\n",
    "b = 1\n",
    "c = 1\n",
    "d = 1\n",
    "# Define the system of ODEs\n",
    "# P[0] is prey, P[1] is predator\n",
    "def dP_dt(P,t=0):\n",
    "    return np.array([a*P[0]-b*P[0]*P[1], d*b*P[0]*P[1]-c*P[1]])\n",
    "# Define the Equilibrium points\n",
    "eq1 = np.array([0. , 0.])\n",
    "eq2 = np.array([c/(d*b),a/b])"
   ]
  },
  {
   "cell_type": "code",
   "execution_count": null,
   "metadata": {},
   "outputs": [],
   "source": [
    "values = np.linspace(0.1, 3, 10)\n",
    "# Colors for each trajectory\n",
    "vcolors = plt.cm.autumn_r(np.linspace(0.1, 1., len(values)))\n",
    "f = plt.figure(figsize=(10,6))\n",
    "t = np.linspace(0, 150, 1000)\n",
    "for v, col in zip(values, vcolors):\n",
    "    # Starting point \n",
    "    P0 = v*eq2\n",
    "    P = integrate.odeint(dP_dt, P0, t)\n",
    "    plt.plot(P[:,0], P[:,1],\n",
    "             lw= 1.5*v, # Different line width for different trajectories\n",
    "             color=col, label='P0=(%.f, %.f)' % ( P0[0], P0[1]) )\n",
    "ymax = plt.ylim(bottom=0)[1]\n",
    "xmax = plt.xlim(left=0)[1]\n",
    "nb_points   = 20\n",
    "x = np.linspace(0, xmax, nb_points)\n",
    "y = np.linspace(0, ymax, nb_points)\n",
    "X1,Y1  = np.meshgrid(x, y)                       \n",
    "DX1, DY1 = dP_dt([X1, Y1])                      \n",
    "M = (np.hypot(DX1, DY1))                           \n",
    "M[M == 0] = 1.                                \n",
    "DX1 /= M                                      \n",
    "DY1 /= M\n",
    "plt.title('Trajectories and direction fields')\n",
    "Q = plt.quiver(X1, Y1, DX1, DY1, M, pivot='mid', cmap=plt.cm.plasma)\n",
    "plt.xlabel('Number of rabbits')\n",
    "plt.ylabel('Number of coyotes')\n",
    "plt.legend()\n",
    "plt.grid()\n",
    "plt.xlim(0, xmax)\n",
    "plt.ylim(0, ymax)\n",
    "plt.show()\n"
   ]
  },
  {
   "cell_type": "markdown",
   "metadata": {},
   "source": [
    "\n",
    "\n",
    "## Multiple Predators and Preys Relationship\n",
    "\n",
    "The previous relationship could be extended to multiple predators and preys relationship"
   ]
  },
  {
   "cell_type": "code",
   "execution_count": null,
   "metadata": {},
   "outputs": [],
   "source": [
    "%matplotlib inline\n",
    "initial_rabbit2 = widgets.FloatText(description=\"Initial Rabbit\", style=style,value=2)\n",
    "initial_coyote2 = widgets.FloatText(description=\"Initial Coyote\",style=style, value=2)\n",
    "initial_deer2 = widgets.FloatText(description=\"Initial Deer\", style=style,value=1)\n",
    "initial_wolf2 = widgets.FloatText(description=\"Initial Wolf\", style=style,value=1)\n",
    "population_capacity = widgets.FloatText(description=\"capacity\",style=style, value=10)\n",
    "population_capacity_rabbit = widgets.FloatText(description=\"capacity rabbit\",style=style, value=3)\n",
    "growth_rate_rabbit = widgets.FloatText(description=\"growth rate rabbit\",style=style, value=1)\n",
    "death_rate_coyote = widgets.FloatText(description=\"death rate coyote\",style=style, value=1)\n",
    "growth_rate_deer = widgets.FloatText(description=\"growth rate deer\",style=style, value=1)\n",
    "death_rate_wolf = widgets.FloatText(description=\"death rate wolf\",style=style, value=1)\n",
    "x1 = widgets.FloatText(description=\"death rate ratio due to coyote\",style=style, value=1)\n",
    "y1 = widgets.FloatText(description=\"growth rate ratio due to rabbit\", style=style,value=1)\n",
    "x2 = widgets.FloatText(description=\"death rate ratio due to wolf\",style=style, value=1)\n",
    "y2 = widgets.FloatText(description=\"growth rate ratio due to deer\", style=style,value=1)\n",
    "plot2 = widgets.Button(description=\"Plot Graph\")\n",
    "display(initial_rabbit2, initial_coyote2,initial_deer2, initial_wolf2, population_capacity, \n",
    "        population_capacity_rabbit, growth_rate_rabbit, growth_rate_deer, death_rate_coyote,death_rate_wolf,\n",
    "        x1, y1,x2, y2, plot2)\n",
    "def plot_graph(b):\n",
    "    clear_output()\n",
    "    display(initial_rabbit2, initial_coyote2,initial_deer2, initial_wolf2, population_capacity, \n",
    "        population_capacity_rabbit, growth_rate_rabbit, growth_rate_deer, death_rate_coyote,death_rate_wolf,\n",
    "        x1, y1,x2, y2, plot2)\n",
    "    fig = plt.figure()\n",
    "    ax = fig.add_subplot(111)\n",
    "    t_m = np.arange(0, 20, 0.5)\n",
    "    r_m = np.zeros(t_m.shape)\n",
    "    c_m = np.zeros(t_m.shape)\n",
    "    d_m = np.zeros(t_m.shape)\n",
    "    w_m = np.zeros(t_m.shape)\n",
    "    R_m = initial_rabbit2.value\n",
    "    C_m = initial_coyote2.value\n",
    "    D_m = initial_deer2.value\n",
    "    W_m = initial_wolf2.value\n",
    "    population_capacity_deer = population_capacity.value - population_capacity_rabbit.value\n",
    "    for i in range(t_m.shape[0]):\n",
    "        r_m[i] = R_m\n",
    "        c_m[i] = C_m\n",
    "        d_m[i] = D_m\n",
    "        w_m[i] = W_m\n",
    "        \n",
    "        R_m = R_m + growth_rate_rabbit.value * (population_capacity_rabbit.value - R_m)\\\n",
    "            /(population_capacity_rabbit.value) * R_m - (1 - 1/(x1.value*C_m + 1))*R_m - (1 - 1/(x2.value*W_m + 1))*R_m \n",
    "        D_m = D_m + growth_rate_deer.value * (population_capacity_deer - D_m) \\\n",
    "            /(population_capacity_deer) * D_m - (1 - 1/(x1.value*C_m + 1))*D_m - (1 - 1/(x2.value*W_m + 1))*D_m\n",
    "        \n",
    "        C_m = C_m - death_rate_coyote.value * C_m  + y1.value*r_m[i]*C_m + y2.value*d_m[i]*C_m\n",
    "        W_m = W_m - death_rate_wolf.value * W_m  + y1.value*r_m[i]*W_m + y2.value*d_m[i]*W_m\n",
    "        \n",
    "    ax.plot(t_m, r_m, label=\"rabit\")\n",
    "    ax.plot(t_m, c_m, label=\"coyote\")\n",
    "    ax.plot(t_m, d_m, label=\"deer\")\n",
    "    ax.plot(t_m, w_m, label=\"wolf\")\n",
    "    ax.set(xlabel='time (months)', ylabel='population',\n",
    "       title='Multiple Predator Prey Relationship')\n",
    "    ax.grid()\n",
    "    ax.legend()\n",
    "\n",
    "plot2.on_click(plot_graph)"
   ]
  },
  {
   "cell_type": "code",
   "execution_count": null,
   "metadata": {},
   "outputs": [],
   "source": []
  }
 ],
 "metadata": {
  "anaconda-cloud": {},
  "kernelspec": {
   "display_name": "Python 3",
   "language": "python",
   "name": "python3"
  },
  "language_info": {
   "codemirror_mode": {
    "name": "ipython",
    "version": 3
   },
   "file_extension": ".py",
   "mimetype": "text/x-python",
   "name": "python",
   "nbconvert_exporter": "python",
   "pygments_lexer": "ipython3",
   "version": "3.7.3"
  }
 },
 "nbformat": 4,
 "nbformat_minor": 4
}
