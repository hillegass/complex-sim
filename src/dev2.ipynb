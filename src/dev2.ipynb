{
 "cells": [
  {
   "cell_type": "markdown",
   "metadata": {},
   "source": [
    "# Simulating a Predator and Prey Relationship\n",
    "\n",
    "Without a predator, rabbits will reproduce until they reach the carrying capacity of the land. When coyotes show up, they will eat the rabbits and reproduce until they can't find enough rabbits. We will explore the fluctuations in the two populations over time."
   ]
  },
  {
   "cell_type": "markdown",
   "metadata": {},
   "source": [
    "# Using Lotka-Volterra Model"
   ]
  },
  {
   "cell_type": "markdown",
   "metadata": {},
   "source": [
    "## Part 1: Rabbits without predators\n",
    "\n",
    "According to [Mother Earth News](https://www.motherearthnews.com/homesteading-and-livestock/rabbits-on-pasture-intensive-grazing-with-bunnies-zbcz1504), a rabbit eats six square feet of pasture per day. Let's assume that our rabbits live in a five acre clearing in a forest: 217,800 square feet/6 square feet = 36,300 rabbit-days worth of food. For simplicity, let's assume the grass grows back in two months. Thus, the carrying capacity of five acres is 36,300/60 = 605 rabbits.\n",
    "\n",
    "Female rabbits reproduce about six to seven times per year. They have six to ten children in a litter.  According to [Wikipedia](https://en.wikipedia.org/wiki/Rabbit), a wild rabbit reaches sexual maturity when it is about six months old and typically lives one to two years. For simplicity, let's assume that in the presence of unlimited food, a rabbit lives forever, is immediately sexually mature, and has 1.5 children every month.\n",
    "\n",
    "For our purposes, then, let $x_t$ be the number of rabbits in our five acre clearing on month $t$.\n",
    "$$\n",
    "\\begin{equation*}\n",
    "  R_t = R_{t-1} + 1.5\\frac{605 - R_{t-1}}{605} R_{t-1}\n",
    "\\end{equation*}\n",
    "$$\n",
    "\n",
    "The formula could be put into general form\n",
    "$$\n",
    "\\begin{equation*}\n",
    "  R_t = R_{t-1} + growth_{R} \\times \\big( \\frac{capacity_{R} - R_{t-1}}{capacity_{R}} \\big) R_{t-1}\n",
    "\\end{equation*}\n",
    "$$\n",
    "\n",
    "By doing this, we allow users to interact with growth rate and the capacity value visualize different interaction \n"
   ]
  },
  {
   "cell_type": "code",
   "execution_count": 4,
   "metadata": {},
   "outputs": [],
   "source": [
    "from __future__ import print_function\n",
    "from ipywidgets import interact, interactive, fixed, interact_manual\n",
    "from IPython.display import display, clear_output\n",
    "import ipywidgets as widgets\n",
    "import matplotlib.pyplot as plt\n",
    "import numpy as np"
   ]
  },
  {
   "cell_type": "code",
   "execution_count": 2,
   "metadata": {
    "scrolled": false
   },
   "outputs": [
    {
     "data": {
      "application/vnd.jupyter.widget-view+json": {
       "model_id": "794ca83057444ae5bf1a413b36464d82",
       "version_major": 2,
       "version_minor": 0
      },
      "text/plain": [
       "FloatText(value=1.0, description='Initial population', style=DescriptionStyle(description_width='initial'))"
      ]
     },
     "metadata": {},
     "output_type": "display_data"
    },
    {
     "data": {
      "application/vnd.jupyter.widget-view+json": {
       "model_id": "48e40d54e44f4eb6a8b1e71f84bb071b",
       "version_major": 2,
       "version_minor": 0
      },
      "text/plain": [
       "FloatText(value=605.0, description='Capacity')"
      ]
     },
     "metadata": {},
     "output_type": "display_data"
    },
    {
     "data": {
      "application/vnd.jupyter.widget-view+json": {
       "model_id": "63a4349b6bcb414a996cf9e54062a8c9",
       "version_major": 2,
       "version_minor": 0
      },
      "text/plain": [
       "FloatText(value=1.5, description='Growth rate')"
      ]
     },
     "metadata": {},
     "output_type": "display_data"
    },
    {
     "data": {
      "application/vnd.jupyter.widget-view+json": {
       "model_id": "e225202a3c9041dda0cdb22cd61e65e7",
       "version_major": 2,
       "version_minor": 0
      },
      "text/plain": [
       "Button(description='Plot Graph', style=ButtonStyle())"
      ]
     },
     "metadata": {},
     "output_type": "display_data"
    }
   ],
   "source": [
    "%matplotlib inline\n",
    "style = {'description_width': 'initial'}\n",
    "capacity_R = widgets.FloatText(description=\"Capacity\", value=605)\n",
    "growth_rate_R = widgets.FloatText(description=\"Growth rate\", value=1.5)\n",
    "initial_R = widgets.FloatText(description=\"Initial population\",style=style, value=1)\n",
    "button_R = widgets.Button(description=\"Plot Graph\")\n",
    "display(initial_R, capacity_R, growth_rate_R, button_R)\n",
    "\n",
    "def plot_graph_r(b):\n",
    "    print(\"helo\")\n",
    "    clear_output()\n",
    "    display(initial_R, capacity_R, growth_rate_R, button_R)\n",
    "    fig = plt.figure()\n",
    "    ax = fig.add_subplot(111)\n",
    "    t = np.arange(0, 20, 1)\n",
    "    s = np.zeros(t.shape)\n",
    "    R = initial_R.value\n",
    "    for i in range(t.shape[0]):\n",
    "        s[i] = R\n",
    "        R = R + growth_rate_R.value * (capacity_R.value - R)/(capacity_R.value) * R\n",
    "        \n",
    "    ax.plot(t, s)\n",
    "    ax.set(xlabel='time (months)', ylabel='rabbits',\n",
    "       title='Rabbits Without Predators')\n",
    "    ax.grid()\n",
    "\n",
    "button_R.on_click(plot_graph_r)"
   ]
  },
  {
   "cell_type": "markdown",
   "metadata": {},
   "source": [
    "## Part 2: Coyotes without preys\n",
    "According to [Huntwise](https://www.besthuntingtimes.com/blog/2020/2/3/why-you-should-coyote-hunt-how-to-get-started), coyotes need to consume about 2-3 pounds of food per day. Their diet is 90 percent mammalian. The perfect adult cottontail rabbits weigh 2.6 pounds on average. Thus, we assume the coyote eats one rabbit per day. \n",
    "\n",
    "For coyotes, the breeding season is in February and March. According to [Wikipedia](https://en.wikipedia.org/wiki/Coyote#Social_and_reproductive_behaviors), females have a gestation period of 63 days, with an average litter size of 6, though the number fluctuates depending on coyote population density and the abundance of food. By fall, the pups are old enough to hunt for themselves.\n",
    "\n",
    "In the absence of rabbits, the number of coyotes will drop, as their food supply is scarce.\n",
    "The formula could be put into general form:\n",
    "\n",
    "$$\n",
    "\\begin{align*}\n",
    "  C_t & \\sim (1 - death_{C}) \\times C_{t-1}\\\\\n",
    "  &= C_{t-1} - death_{C} \\times C_{t-1}\n",
    "\\end{align*}\n",
    "$$\n",
    "\n"
   ]
  },
  {
   "cell_type": "code",
   "execution_count": 3,
   "metadata": {
    "scrolled": false
   },
   "outputs": [
    {
     "data": {
      "application/vnd.jupyter.widget-view+json": {
       "model_id": "ed8d4cd9d82640cf95356d9d5b6789de",
       "version_major": 2,
       "version_minor": 0
      },
      "text/plain": [
       "FloatText(value=200.0, description='Initial Population', style=DescriptionStyle(description_width='initial'))"
      ]
     },
     "metadata": {},
     "output_type": "display_data"
    },
    {
     "data": {
      "application/vnd.jupyter.widget-view+json": {
       "model_id": "c7628388811f45bcb0c978d49f1d37ee",
       "version_major": 2,
       "version_minor": 0
      },
      "text/plain": [
       "FloatText(value=0.5, description='Death rate')"
      ]
     },
     "metadata": {},
     "output_type": "display_data"
    },
    {
     "data": {
      "application/vnd.jupyter.widget-view+json": {
       "model_id": "89ee9c63f98c498e942b8d26e5bd9f73",
       "version_major": 2,
       "version_minor": 0
      },
      "text/plain": [
       "Button(description='Plot Graph', style=ButtonStyle())"
      ]
     },
     "metadata": {},
     "output_type": "display_data"
    }
   ],
   "source": [
    "%matplotlib inline\n",
    "style = {'description_width': 'initial'}\n",
    "initial_C=widgets.FloatText(description=\"Initial Population\",style=style,value=200.0)\n",
    "declining_rate_C=widgets.FloatText(description=\"Death rate\",value=0.5)\n",
    "button_C=widgets.Button(description=\"Plot Graph\")\n",
    "display(initial_C, declining_rate_C, button_C)\n",
    "\n",
    "def plot_graph_c(b):\n",
    "    clear_output()\n",
    "    display(initial_C, declining_rate_C, button_C)\n",
    "    fig = plt.figure()\n",
    "    ax = fig.add_subplot(111)\n",
    "    t1 = np.arange(0, 20, 1)\n",
    "    s1 = np.zeros(t1.shape)\n",
    "    C = initial_C.value\n",
    "    for i in range(t1.shape[0]):\n",
    "        s1[i] = C\n",
    "        C = (1 - declining_rate_C.value)*C\n",
    "        \n",
    "    ax.plot(t1, s1)\n",
    "    ax.set(xlabel='time (months)', ylabel='rabbits',\n",
    "       title='Rabbits Without Predators')\n",
    "    ax.grid()\n",
    "\n",
    "button_C.on_click(plot_graph_c)\n"
   ]
  },
  {
   "cell_type": "markdown",
   "metadata": {},
   "source": [
    "## Part 3: Interaction Between Coyotes and Rabbit\n",
    "With the simple interaction from the first two parts, now we can combine both interaction and come out with simple interaction.\n",
    "$$\n",
    "\\begin{align*}\n",
    "  R_t &= R_{t-1} + growth_{R} \\times \\big( \\frac{capacity_{R} - R_{t-1}}{capacity_{R}} \\big) R_{t-1} - death_{R}(C_{t-1})\\times R_{t-1}\\\\\\\\\n",
    "  C_t &= C_{t-1} - death_{C} \\times C_{t-1} + growth_{C}(R_{t-1}) \\times C_{t-1}\n",
    "\\end{align*}\n",
    "$$\n",
    "\n",
    "In equations above, death rate of rabbit is a function parameterized by the amount of coyote. Similarly, the growth rate of coyotes is a function parameterized by the amount of the rabbit.\n",
    "\n",
    "The death rate of the rabbit should be $0$ if there are no coyotes, while it should approach $1$ if there are many coyotes. One of the formula fulfilling this characteristics is hyperbolic function.\n",
    "\n",
    "$$\n",
    "\\begin{equation}\n",
    "death_R(C) = 1 - \\frac{1}{xC + 1}\n",
    "\\end{equation}\n",
    "$$\n",
    "\n",
    "where $x$ determines how quickly $death_R$ increases as the number of coyotes ($C$) increases. Similarly, the growth rate of the coyotes should be $0$ if there are no rabbits, while it should approach infinity if there are many rabbits. One of the formula fulfilling this characteristics is a linear function.\n",
    "\n",
    "$$\n",
    "\\begin{equation}\n",
    "growth_C(R) = yC\n",
    "\\end{equation}\n",
    "$$\n",
    "\n",
    "where $y$ determines how quickly $growth_C$ increases as number of rabbit ($R$) increases.\n",
    "\n",
    "Putting all together, the final equtions are\n",
    "\n",
    "$$\n",
    "\\begin{align*}\n",
    "  R_t &= R_{t-1} + growth_{R} \\times \\big( \\frac{capacity_{R} - R_{t-1}}{capacity_{R}} \\big) R_{t-1} - \\big( 1 - \\frac{1}{xC_{t-1} + 1} \\big)\\times R_{t-1}\\\\\\\\\n",
    "  C_t &= C_{t-1} - death_{C} \\times C_{t-1} + yR_{t-1}C_{t-1}\n",
    "\\end{align*}\n",
    "$$\n",
    "\n"
   ]
  },
  {
   "cell_type": "code",
   "execution_count": 4,
   "metadata": {
    "scrolled": false
   },
   "outputs": [
    {
     "data": {
      "application/vnd.jupyter.widget-view+json": {
       "model_id": "c25456f358e141039d7d347ecfedee74",
       "version_major": 2,
       "version_minor": 0
      },
      "text/plain": [
       "FloatText(value=1.0, description='Initial Rabbit')"
      ]
     },
     "metadata": {},
     "output_type": "display_data"
    },
    {
     "data": {
      "application/vnd.jupyter.widget-view+json": {
       "model_id": "1139d023c9e741a080f40de85db332b5",
       "version_major": 2,
       "version_minor": 0
      },
      "text/plain": [
       "FloatText(value=1.0, description='Initial Coyote')"
      ]
     },
     "metadata": {},
     "output_type": "display_data"
    },
    {
     "data": {
      "application/vnd.jupyter.widget-view+json": {
       "model_id": "37841ca3a8134aab9ee5503fe6e58d9f",
       "version_major": 2,
       "version_minor": 0
      },
      "text/plain": [
       "FloatText(value=5.0, description='capacity_R')"
      ]
     },
     "metadata": {},
     "output_type": "display_data"
    },
    {
     "data": {
      "application/vnd.jupyter.widget-view+json": {
       "model_id": "54cf15b0cf7849f69474a0857e423a72",
       "version_major": 2,
       "version_minor": 0
      },
      "text/plain": [
       "FloatText(value=1.0, description='growth_R')"
      ]
     },
     "metadata": {},
     "output_type": "display_data"
    },
    {
     "data": {
      "application/vnd.jupyter.widget-view+json": {
       "model_id": "77412973fbfc42c98a935c1de6b44261",
       "version_major": 2,
       "version_minor": 0
      },
      "text/plain": [
       "FloatText(value=1.0, description='death_C')"
      ]
     },
     "metadata": {},
     "output_type": "display_data"
    },
    {
     "data": {
      "application/vnd.jupyter.widget-view+json": {
       "model_id": "15e89cbde38a43baad03b24a628ec791",
       "version_major": 2,
       "version_minor": 0
      },
      "text/plain": [
       "FloatText(value=1.0, description='x')"
      ]
     },
     "metadata": {},
     "output_type": "display_data"
    },
    {
     "data": {
      "application/vnd.jupyter.widget-view+json": {
       "model_id": "0e19986493e54aad9dcdce52cea97673",
       "version_major": 2,
       "version_minor": 0
      },
      "text/plain": [
       "FloatText(value=1.0, description='y')"
      ]
     },
     "metadata": {},
     "output_type": "display_data"
    },
    {
     "data": {
      "application/vnd.jupyter.widget-view+json": {
       "model_id": "3b2f731d2c4844f2a00606096b35ec8f",
       "version_major": 2,
       "version_minor": 0
      },
      "text/plain": [
       "Button(description='Plot Graph', style=ButtonStyle())"
      ]
     },
     "metadata": {},
     "output_type": "display_data"
    }
   ],
   "source": [
    "%matplotlib inline\n",
    "initial_rabbit = widgets.FloatText(description=\"Initial Rabbit\", value=1)\n",
    "initial_coyote = widgets.FloatText(description=\"Initial Coyote\", value=1)\n",
    "capacity = widgets.FloatText(description=\"capacity_R\", value=5)\n",
    "growth_rate = widgets.FloatText(description=\"growth_R\", value=1)\n",
    "death_rate = widgets.FloatText(description=\"death_C\", value=1)\n",
    "x = widgets.FloatText(description=\"x\", value=1)\n",
    "y = widgets.FloatText(description=\"y\", value=1)\n",
    "button = widgets.Button(description=\"Plot Graph\")\n",
    "display(initial_rabbit, initial_coyote, capacity, growth_rate, death_rate, x, y, button)\n",
    "def plot_graph(b):\n",
    "    clear_output()\n",
    "    display(initial_rabbit, initial_coyote, capacity, growth_rate, death_rate, x, y, button)\n",
    "    fig = plt.figure()\n",
    "    ax = fig.add_subplot(111)\n",
    "    t = np.arange(0, 20, 0.5)\n",
    "    s = np.zeros(t.shape)\n",
    "    p = np.zeros(t.shape)\n",
    "    R = initial_rabbit.value\n",
    "    C = initial_coyote.value\n",
    "    for i in range(t.shape[0]):\n",
    "        s[i] = R\n",
    "        p[i] = C\n",
    "        R = R + growth_rate.value * (capacity.value - R)/(capacity.value) * R - (1 - 1/(x.value*C + 1))*R\n",
    "        C = C - death_rate.value * C  + y.value*s[i]*C\n",
    "        \n",
    "    ax.plot(t, s, label=\"rabit\")\n",
    "    ax.plot(t, p, label=\"coyote\")\n",
    "    ax.set(xlabel='time (months)', ylabel='rabbits',\n",
    "       title='Coyotes Rabbit Predator Prey Relationship')\n",
    "    ax.grid()\n",
    "    ax.legend()\n",
    "\n",
    "button.on_click(plot_graph)"
   ]
  },
  {
   "cell_type": "markdown",
   "metadata": {},
   "source": [
    "\n",
    "\n",
    "## Multiple Predators and Preys Relationship\n",
    "\n",
    "The previous relationship could be extended to multiple predators and preys relationship"
   ]
  },
  {
   "cell_type": "code",
   "execution_count": 22,
   "metadata": {},
   "outputs": [
    {
     "data": {
      "application/vnd.jupyter.widget-view+json": {
       "model_id": "0c457774adca4c34ab3df14efdd69a63",
       "version_major": 2,
       "version_minor": 0
      },
      "text/plain": [
       "FloatText(value=2.0, description='Initial Rabbit')"
      ]
     },
     "metadata": {},
     "output_type": "display_data"
    },
    {
     "data": {
      "application/vnd.jupyter.widget-view+json": {
       "model_id": "61faec7e7f654064858c67c379561fcb",
       "version_major": 2,
       "version_minor": 0
      },
      "text/plain": [
       "FloatText(value=2.0, description='Initial Coyote')"
      ]
     },
     "metadata": {},
     "output_type": "display_data"
    },
    {
     "data": {
      "application/vnd.jupyter.widget-view+json": {
       "model_id": "5f905255da1f408ca393e6e4072b3d95",
       "version_major": 2,
       "version_minor": 0
      },
      "text/plain": [
       "FloatText(value=1.0, description='Initial Deer')"
      ]
     },
     "metadata": {},
     "output_type": "display_data"
    },
    {
     "data": {
      "application/vnd.jupyter.widget-view+json": {
       "model_id": "17e443c7d89c44d092331b0742598643",
       "version_major": 2,
       "version_minor": 0
      },
      "text/plain": [
       "FloatText(value=1.0, description='Initial Wolf')"
      ]
     },
     "metadata": {},
     "output_type": "display_data"
    },
    {
     "data": {
      "application/vnd.jupyter.widget-view+json": {
       "model_id": "b1c3b6bd88d44cffae9ff78d58b3b6af",
       "version_major": 2,
       "version_minor": 0
      },
      "text/plain": [
       "FloatText(value=10.0, description='capacity')"
      ]
     },
     "metadata": {},
     "output_type": "display_data"
    },
    {
     "data": {
      "application/vnd.jupyter.widget-view+json": {
       "model_id": "123977fad6ac43198b36a310b71939c5",
       "version_major": 2,
       "version_minor": 0
      },
      "text/plain": [
       "FloatText(value=3.0, description='capacity rabbit')"
      ]
     },
     "metadata": {},
     "output_type": "display_data"
    },
    {
     "data": {
      "application/vnd.jupyter.widget-view+json": {
       "model_id": "91fa883688d4422d8075c12180879815",
       "version_major": 2,
       "version_minor": 0
      },
      "text/plain": [
       "FloatText(value=1.0, description='growth rate rabbit')"
      ]
     },
     "metadata": {},
     "output_type": "display_data"
    },
    {
     "data": {
      "application/vnd.jupyter.widget-view+json": {
       "model_id": "aa555b3e387c4b98b220eb3449786cbf",
       "version_major": 2,
       "version_minor": 0
      },
      "text/plain": [
       "FloatText(value=1.0, description='growth rate deer')"
      ]
     },
     "metadata": {},
     "output_type": "display_data"
    },
    {
     "data": {
      "application/vnd.jupyter.widget-view+json": {
       "model_id": "3932a9443d30429bbf77e0875b13cfaa",
       "version_major": 2,
       "version_minor": 0
      },
      "text/plain": [
       "FloatText(value=1.0, description='death rate coyote')"
      ]
     },
     "metadata": {},
     "output_type": "display_data"
    },
    {
     "data": {
      "application/vnd.jupyter.widget-view+json": {
       "model_id": "6ae1f81c89864bf9928114b637fe6dd4",
       "version_major": 2,
       "version_minor": 0
      },
      "text/plain": [
       "FloatText(value=1.0, description='death rate wolf')"
      ]
     },
     "metadata": {},
     "output_type": "display_data"
    },
    {
     "data": {
      "application/vnd.jupyter.widget-view+json": {
       "model_id": "69c17a4617db46e3ac7f9b0b18d9dcb6",
       "version_major": 2,
       "version_minor": 0
      },
      "text/plain": [
       "FloatText(value=1.0, description='death rate ratio due to coyote')"
      ]
     },
     "metadata": {},
     "output_type": "display_data"
    },
    {
     "data": {
      "application/vnd.jupyter.widget-view+json": {
       "model_id": "59a0f94a57e741a0b419b733363c6dfe",
       "version_major": 2,
       "version_minor": 0
      },
      "text/plain": [
       "FloatText(value=1.0, description='growth rate ratio due to rabbit')"
      ]
     },
     "metadata": {},
     "output_type": "display_data"
    },
    {
     "data": {
      "application/vnd.jupyter.widget-view+json": {
       "model_id": "ad59450396e54cd9b4bcc9ada84bc6cc",
       "version_major": 2,
       "version_minor": 0
      },
      "text/plain": [
       "FloatText(value=1.0, description='death rate ratio due to wolf')"
      ]
     },
     "metadata": {},
     "output_type": "display_data"
    },
    {
     "data": {
      "application/vnd.jupyter.widget-view+json": {
       "model_id": "ca20e7d91510471896ddd59f75d1e814",
       "version_major": 2,
       "version_minor": 0
      },
      "text/plain": [
       "FloatText(value=1.0, description='growth rate ratio due to deer')"
      ]
     },
     "metadata": {},
     "output_type": "display_data"
    },
    {
     "data": {
      "application/vnd.jupyter.widget-view+json": {
       "model_id": "28626686a2844a4fa005d2a2a1add51c",
       "version_major": 2,
       "version_minor": 0
      },
      "text/plain": [
       "Button(description='Plot Graph', style=ButtonStyle())"
      ]
     },
     "metadata": {},
     "output_type": "display_data"
    },
    {
     "data": {
      "image/png": "[encoded data removed]",
      "text/plain": [
       "<Figure size 432x288 with 1 Axes>"
      ]
     },
     "metadata": {
      "needs_background": "light"
     },
     "output_type": "display_data"
    }
   ],
   "source": [
    "%matplotlib inline\n",
    "initial_rabbit2 = widgets.FloatText(description=\"Initial Rabbit\", value=2)\n",
    "initial_coyote2 = widgets.FloatText(description=\"Initial Coyote\", value=2)\n",
    "initial_deer2 = widgets.FloatText(description=\"Initial Deer\", value=1)\n",
    "initial_wolf2 = widgets.FloatText(description=\"Initial Wolf\", value=1)\n",
    "population_capacity = widgets.FloatText(description=\"capacity\", value=10)\n",
    "population_capacity_rabbit = widgets.FloatText(description=\"capacity rabbit\", value=3)\n",
    "growth_rate_rabbit = widgets.FloatText(description=\"growth rate rabbit\", value=1)\n",
    "death_rate_coyote = widgets.FloatText(description=\"death rate coyote\", value=1)\n",
    "growth_rate_deer = widgets.FloatText(description=\"growth rate deer\", value=1)\n",
    "death_rate_wolf = widgets.FloatText(description=\"death rate wolf\", value=1)\n",
    "x1 = widgets.FloatText(description=\"death rate ratio due to coyote\", value=1)\n",
    "y1 = widgets.FloatText(description=\"growth rate ratio due to rabbit\", value=1)\n",
    "x2 = widgets.FloatText(description=\"death rate ratio due to wolf\", value=1)\n",
    "y2 = widgets.FloatText(description=\"growth rate ratio due to deer\", value=1)\n",
    "plot2 = widgets.Button(description=\"Plot Graph\")\n",
    "display(initial_rabbit2, initial_coyote2,initial_deer2, initial_wolf2, population_capacity, \n",
    "        population_capacity_rabbit, growth_rate_rabbit, growth_rate_deer, death_rate_coyote,death_rate_wolf,\n",
    "        x1, y1,x2, y2, plot2)\n",
    "def plot_graph(b):\n",
    "    clear_output()\n",
    "    display(initial_rabbit2, initial_coyote2,initial_deer2, initial_wolf2, population_capacity, \n",
    "        population_capacity_rabbit, growth_rate_rabbit, growth_rate_deer, death_rate_coyote,death_rate_wolf,\n",
    "        x1, y1,x2, y2, plot2)\n",
    "    fig = plt.figure()\n",
    "    ax = fig.add_subplot(111)\n",
    "    t_m = np.arange(0, 20, 0.5)\n",
    "    r_m = np.zeros(t_m.shape)\n",
    "    c_m = np.zeros(t_m.shape)\n",
    "    d_m = np.zeros(t_m.shape)\n",
    "    w_m = np.zeros(t_m.shape)\n",
    "    R_m = initial_rabbit2.value\n",
    "    C_m = initial_coyote2.value\n",
    "    D_m = initial_deer2.value\n",
    "    W_m = initial_wolf2.value\n",
    "    population_capacity_deer = population_capacity.value - population_capacity_rabbit.value\n",
    "    for i in range(t_m.shape[0]):\n",
    "        r_m[i] = R_m\n",
    "        c_m[i] = C_m\n",
    "        d_m[i] = D_m\n",
    "        w_m[i] = W_m\n",
    "        \n",
    "        R_m = R_m + growth_rate_rabbit.value * (population_capacity_rabbit.value - R_m)\\\n",
    "            /(population_capacity_rabbit.value) * R_m - (1 - 1/(x1.value*C_m + 1))*R_m - (1 - 1/(x2.value*W_m + 1))*R_m \n",
    "        D_m = D_m + growth_rate_deer.value * (population_capacity_deer - D_m) \\\n",
    "            /(population_capacity_deer) * D_m - (1 - 1/(x1.value*C_m + 1))*D_m - (1 - 1/(x2.value*W_m + 1))*D_m\n",
    "        \n",
    "        C_m = C_m - death_rate_coyote.value * C_m  + y1.value*r_m[i]*C_m + y2.value*d_m[i]*C_m\n",
    "        W_m = W_m - death_rate_wolf.value * W_m  + y1.value*r_m[i]*W_m + y2.value*d_m[i]*W_m\n",
    "        \n",
    "    ax.plot(t_m, r_m, label=\"rabit\")\n",
    "    ax.plot(t_m, c_m, label=\"coyote\")\n",
    "    ax.plot(t_m, d_m, label=\"deer\")\n",
    "    ax.plot(t_m, w_m, label=\"wolf\")\n",
    "    ax.set(xlabel='time (months)', ylabel='population',\n",
    "       title='Multiple Predator Prey Relationship')\n",
    "    ax.grid()\n",
    "    ax.legend()\n",
    "\n",
    "plot2.on_click(plot_graph)"
   ]
  },
  {
   "cell_type": "code",
   "execution_count": null,
   "metadata": {},
   "outputs": [],
   "source": []
  },
  {
   "cell_type": "code",
   "execution_count": null,
   "metadata": {},
   "outputs": [],
   "source": []
  }
 ],
 "metadata": {
  "anaconda-cloud": {},
  "kernelspec": {
   "display_name": "Python 3",
   "language": "python",
   "name": "python3"
  },
  "language_info": {
   "codemirror_mode": {
    "name": "ipython",
    "version": 3
   },
   "file_extension": ".py",
   "mimetype": "text/x-python",
   "name": "python",
   "nbconvert_exporter": "python",
   "pygments_lexer": "ipython3",
   "version": "3.7.3"
  }
 },
 "nbformat": 4,
 "nbformat_minor": 4
}
