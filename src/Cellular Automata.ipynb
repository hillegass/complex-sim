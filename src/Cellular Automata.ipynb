{
 "cells": [
  {
   "cell_type": "markdown",
   "metadata": {},
   "source": [
    "# Cellular Automata"
   ]
  },
  {
   "cell_type": "markdown",
   "metadata": {},
   "source": [
    "## Finally, another way to simulate the predators and preys relationship could be done through cellular automata way"
   ]
  },
  {
   "cell_type": "code",
   "execution_count": 1,
   "metadata": {},
   "outputs": [],
   "source": [
    "from __future__ import print_function\n",
    "import random\n",
    "import sys\n",
    "import copy\n",
    "from random import randint\n",
    "import numpy\n",
    "\n",
    "from ipywidgets import interact, interactive, fixed, interact_manual\n",
    "from IPython.display import display, clear_output\n",
    "import ipywidgets as widgets\n",
    "random.seed(None)\n",
    "# Possible states:\n",
    "EMPTY = 0\n",
    "PREY = 1\n",
    "PREDATOR = 2"
   ]
  },
  {
   "cell_type": "markdown",
   "metadata": {},
   "source": [
    "## To store the world, let's have our code implementation use a 2-D Numpy array. We create the world and also some utility function"
   ]
  },
  {
   "cell_type": "code",
   "execution_count": 2,
   "metadata": {},
   "outputs": [],
   "source": [
    "import numpy as np\n",
    "import scipy as sp\n",
    "import scipy.sparse\n",
    "\n",
    "def count (G):\n",
    "    \"\"\"\n",
    "    Counts the number of locations in a NumPy array, `G`,\n",
    "    where `np.where (G)` holds.\n",
    "    \"\"\"\n",
    "    return len (np.where (G)[0])\n",
    "\n",
    "def find (G):\n",
    "    \"\"\"\n",
    "    Returns the set of locations of a NumPy array, `G`,\n",
    "    where `np.where (G)` holds.\n",
    "    \"\"\"\n",
    "    assert type (G) is np.ndarray\n",
    "    return {(i, j) for i, j in zip (*np.where (G))}"
   ]
  },
  {
   "cell_type": "code",
   "execution_count": 3,
   "metadata": {},
   "outputs": [],
   "source": [
    "import matplotlib.pyplot as plt # Core plotting support\n",
    "def create_world (n, max_predator):\n",
    "    G = EMPTY * np.ones ((n, n), dtype=int)\n",
    "    width, height = G.shape\n",
    "    predator_count = 0\n",
    "    for x in range(width):\n",
    "        for y in range(height):\n",
    "            i = random.randint(0, 10)\n",
    "            if i <= 7:\n",
    "                G[x, y] = PREY\n",
    "            elif i >= 9 and predator_count < max_predator:\n",
    "                G[x, y] = PREDATOR\n",
    "                predator_count += 1\n",
    "    return G"
   ]
  },
  {
   "cell_type": "code",
   "execution_count": 4,
   "metadata": {},
   "outputs": [
    {
     "data": {
      "image/png": "[encoded data removed]",
      "text/plain": [
       "<Figure size 432x288 with 2 Axes>"
      ]
     },
     "metadata": {
      "needs_background": "light"
     },
     "output_type": "display_data"
    }
   ],
   "source": [
    "def show_world (G, vmin=EMPTY, vmax=PREDATOR, values=\"states\"):\n",
    "    \"\"\"A helper routine to visualize a 2-D world.\"\"\"\n",
    "    # Set color range\n",
    "    assert values in [\"states\", \"bool\"]\n",
    "    if values == \"states\":\n",
    "        vticks = range (vmin, vmax+1)\n",
    "        vlabels = ['Empty', 'PREY', 'PREDATOR']\n",
    "    else:\n",
    "        vticks = [0, 1]\n",
    "        vlabels = ['False (0)', 'True (1)']\n",
    "    \n",
    "    m, n = G.shape[0], G.shape[1]\n",
    "    plt.pcolor (G, vmin=vmin, vmax=vmax, edgecolor='black')\n",
    "    cb = plt.colorbar ()\n",
    "    cb.set_ticks (vticks)\n",
    "    cb.set_ticklabels (vlabels)\n",
    "    plt.axis ('square')\n",
    "    plt.axis ([0, m, 0, n])\n",
    "\n",
    "# Create an empty world at time t=0\n",
    "N = 10\n",
    "world = create_world (N, 10)\n",
    "show_world (world)"
   ]
  },
  {
   "cell_type": "markdown",
   "metadata": {},
   "source": [
    "## Let's define some functions to help identify empty space, preys and predator in this world."
   ]
  },
  {
   "cell_type": "code",
   "execution_count": 5,
   "metadata": {},
   "outputs": [
    {
     "name": "stdout",
     "output_type": "stream",
     "text": [
      "There are 15 empty location initially\n"
     ]
    }
   ],
   "source": [
    "def empty (G):\n",
    "    \"\"\"\n",
    "    Given a grid, G, returns a grid S whose (i, j) entry\n",
    "    equals 1 if G[i, j] is empty or 0 otherwise.\n",
    "    \"\"\"\n",
    "    return (G == EMPTY).astype (int)\n",
    "\n",
    "print (\"There are\", count (empty (world)), \"empty location initially\")"
   ]
  },
  {
   "cell_type": "markdown",
   "metadata": {},
   "source": [
    "## **Exercise 1** (1 point). Complete the following functions, which should find prey in a given world."
   ]
  },
  {
   "cell_type": "code",
   "execution_count": 6,
   "metadata": {},
   "outputs": [
    {
     "name": "stdout",
     "output_type": "stream",
     "text": [
      "There are 75 prey initially\n"
     ]
    }
   ],
   "source": [
    "def prey(G):\n",
    "    \"\"\"\n",
    "    Given a grid G, returns a grid I whose (i, j) entry equals 1 if\n",
    "    G[i, j] is prey or 0 otherwise.\n",
    "    \"\"\"\n",
    "    ### BEGIN SOLUTION\n",
    "    return ((G == PREY)).astype (int)\n",
    "    ### END SOLUTION\n",
    "    \n",
    "print (\"There are\", count (prey (world)), \"prey initially\")"
   ]
  },
  {
   "cell_type": "markdown",
   "metadata": {},
   "source": [
    "## **Exercise 2** (1 point). Complete the following functions, which should find predator in a given world."
   ]
  },
  {
   "cell_type": "code",
   "execution_count": 7,
   "metadata": {},
   "outputs": [
    {
     "name": "stdout",
     "output_type": "stream",
     "text": [
      "There are 10 predator initially\n"
     ]
    }
   ],
   "source": [
    "def predator(G):\n",
    "    \"\"\"\n",
    "    Given a grid G, returns a grid I whose (i, j) entry equals 2 if\n",
    "    G[i, j] is predator or 0 otherwise.\n",
    "    \"\"\"\n",
    "    ### BEGIN SOLUTION\n",
    "    return ((G == PREDATOR)).astype (int)\n",
    "    ### END SOLUTION\n",
    "    \n",
    "print (\"There are\", count (predator (world)), \"predator initially\")"
   ]
  },
  {
   "cell_type": "markdown",
   "metadata": {},
   "source": [
    "## **Get neighbor**. Next, let's define a function that allow us to get the neigbor of the current location. We return a list of 4 location (top, left, right, bottom) and the status (prey, predator, emtpy, not valid (-1))"
   ]
  },
  {
   "cell_type": "markdown",
   "metadata": {},
   "source": [
    "## **Exercise 3** (2 points). Write a function of get_neighbor"
   ]
  },
  {
   "cell_type": "code",
   "execution_count": 8,
   "metadata": {},
   "outputs": [],
   "source": [
    "def get_neighbor(G, x, y): \n",
    "    height = G.shape[1]\n",
    "    width = G.shape[0]\n",
    "    left = [x, (y-1)%width, G[x, (y-1)%width]]\n",
    "    right = [x, (y+1)%width, G[x, (y+1)%width]]\n",
    "    top = [(x-1)%height, y, G[(x-1)%height, y]]\n",
    "    bottom = [(x+1)%height, y, G[(x+1)%height,y]]\n",
    "    if y == 0:\n",
    "        left[2] = -1\n",
    "    if x == 0:\n",
    "        top[2] == -1\n",
    "    if y == G.shape[0]:\n",
    "        right[2] == -1\n",
    "    if x == G.shape[1]:\n",
    "        bottom[2] = -1\n",
    "    return [top, left, right, bottom]"
   ]
  },
  {
   "cell_type": "markdown",
   "metadata": {},
   "source": [
    "## **Movement of predator** The predator will move according to the neighbors.\n",
    "* **R1**) If any of the neighbor is prey, it will randomly move to that location and eat the prey, or has offspring occupy that space according to reproductive probability\n",
    "* **R2**) If the location is empty, it will move to that location randomly,it may die according to dying probability.\n"
   ]
  },
  {
   "cell_type": "markdown",
   "metadata": {},
   "source": [
    "## **Exercise 4** (2 points). Write a function of movement of predator"
   ]
  },
  {
   "cell_type": "code",
   "execution_count": 9,
   "metadata": {},
   "outputs": [
    {
     "name": "stdout",
     "output_type": "stream",
     "text": [
      "There are 10 predator(s) and  75  preys now\n"
     ]
    },
    {
     "data": {
      "image/png": "[encoded data removed]",
      "text/plain": [
       "<Figure size 432x288 with 2 Axes>"
      ]
     },
     "metadata": {
      "needs_background": "light"
     },
     "output_type": "display_data"
    }
   ],
   "source": [
    "def predator_move (G, x, y, dying_probability, reproductive_probability):\n",
    "    \"\"\"\n",
    "    Returns new Grid after movement\n",
    "    \"\"\"\n",
    "    E = G\n",
    "#     print(G)     \n",
    "#     print(G[x, y])\n",
    "#     print(x, y)\n",
    "    \n",
    "    if (G[x,y] != PREDATOR):\n",
    "        return E\n",
    "    \n",
    "    ### BEGIN SOLUTION\n",
    "    neighbors = get_neighbor(G, x, y)\n",
    "    prey_available = []\n",
    "    empty_space = []\n",
    "    dying = np.random.uniform (0,1)\n",
    "    reproduce = np.random.uniform (0,1)\n",
    "    \n",
    "    #print(neighbors)\n",
    "    # Get the avaiable option\n",
    "    for neighbor in neighbors:\n",
    "        if neighbor[2] == EMPTY:\n",
    "            empty_space.append(neighbor)\n",
    "        elif neighbor[2] == PREY:\n",
    "            prey_available.append(neighbor)\n",
    "    \n",
    "    # first eat, else move, else die\n",
    "    if len(prey_available) > 0:\n",
    "        get_location = randint(0, len(prey_available)-1)\n",
    "        x_new = prey_available[get_location][0]\n",
    "        #print('xnew', x_new)\n",
    "        y_new = prey_available[get_location][1]\n",
    "        #print('y_new', y_new)\n",
    "        E[x, y] = EMPTY\n",
    "        if dying >= dying_probability:\n",
    "            E[x_new, y_new] = PREDATOR\n",
    "            # create new predator\n",
    "            if reproduce >= reproductive_probability:\n",
    "                   E[x, y] = PREDATOR\n",
    "        else:\n",
    "            E[x_new, y_new] = EMPTY\n",
    "            \n",
    "    elif len(empty_space) > 0: \n",
    "        get_location = randint(0, len(empty_space)-1)\n",
    "        #print(\"new location\" ,get_location)\n",
    "        x_new = empty_space[get_location][0]\n",
    "        #print('xnew', x_new)\n",
    "        y_new = empty_space[get_location][1]\n",
    "        #print('ynew', y_new)\n",
    "        E[x, y] = EMPTY\n",
    "        E[x_new, y_new] = PREDATOR\n",
    "    else:\n",
    "        # predator die\n",
    "        E[x, y] = EMPTY\n",
    "#         print('predator die')\n",
    "    \n",
    "    #print(G)\n",
    "    #print(E)\n",
    "    return E\n",
    "\n",
    "# Visualizes your results:\n",
    "print (\"There are\", count (predator (world)), \"predator(s) and \",count (prey (world)),\" preys now\")\n",
    "show_world(world)\n",
    "world = predator_move(world, 2, 0, 0.5, 0.5)\n",
    "#print (\"There are\", count (predator (world)), \"predator(s) and \",count (prey (world)),\" preys now\")\n"
   ]
  },
  {
   "cell_type": "markdown",
   "metadata": {},
   "source": [
    "## **Movement of prey** The prey will move according to the neighbors.\n",
    "* **R1**) If any of the neighbor is empty, it can move to that place or just replicate at that place according to the reproductive probability."
   ]
  },
  {
   "cell_type": "markdown",
   "metadata": {},
   "source": [
    "## **Exercise 5** (2 points). Write a function of movement of prey"
   ]
  },
  {
   "cell_type": "code",
   "execution_count": 10,
   "metadata": {},
   "outputs": [
    {
     "name": "stdout",
     "output_type": "stream",
     "text": [
      "There are 10 predator(s) and  75  preys now\n",
      "There are 10 predator(s) and  75  preys now\n"
     ]
    },
    {
     "data": {
      "image/png": "[encoded data removed]",
      "text/plain": [
       "<Figure size 432x288 with 2 Axes>"
      ]
     },
     "metadata": {
      "needs_background": "light"
     },
     "output_type": "display_data"
    }
   ],
   "source": [
    "def prey_move (G, x, y, reproductive_probability):\n",
    "    \"\"\"\n",
    "    Returns new Grid after movement\n",
    "    \"\"\"\n",
    "    E = G\n",
    "#     print(G)     \n",
    "#     print(G[x, y])\n",
    "#     print(x, y)\n",
    "    \n",
    "    if (G[x,y] != PREY):\n",
    "        return E\n",
    "    \n",
    "    random_draw = np.random.uniform (0,1)\n",
    "    \n",
    "    ### BEGIN SOLUTION\n",
    "    neighbors = get_neighbor(G, x, y)\n",
    "    prey_available = []\n",
    "    empty_space = []\n",
    "        \n",
    "    \n",
    "    #print(neighbors)\n",
    "    # Get the avaiable option\n",
    "    for neighbor in neighbors:\n",
    "        if neighbor[2] == EMPTY:\n",
    "            empty_space.append(neighbor)\n",
    "\n",
    "    # move or reproduce\n",
    "    if len(empty_space) > 0: \n",
    "        get_location = randint(0, len(empty_space)-1)\n",
    "        #print(\"new location\" ,get_location)\n",
    "        x_new = empty_space[get_location][0]\n",
    "        #print('xnew', x_new)\n",
    "        y_new = empty_space[get_location][1]\n",
    "        #print('ynew', y_new)\n",
    "        E[x_new, y_new] = PREY\n",
    "        \n",
    "        # reproduction probability, if less than this, just a movement\n",
    "        if random_draw < reproductive_probability:\n",
    "            E[x, y] = EMPTY\n",
    "    \n",
    "    #print(G)\n",
    "    #print(E)\n",
    "    return E\n",
    "\n",
    "# Visualizes your results:\n",
    "print (\"There are\", count (predator (world)), \"predator(s) and \",count (prey (world)),\" preys now\")\n",
    "show_world(world)\n",
    "world = prey_move(world, 0, 2, 0.5)\n",
    "print (\"There are\", count (predator (world)), \"predator(s) and \",count (prey (world)),\" preys now\")"
   ]
  },
  {
   "cell_type": "markdown",
   "metadata": {},
   "source": [
    "## Step function for each time step"
   ]
  },
  {
   "cell_type": "code",
   "execution_count": 11,
   "metadata": {},
   "outputs": [],
   "source": [
    "def step (G, prey_reproduce_prob, predator_reproduce_prob, predator_dying_prob):\n",
    "    \"\"\"\n",
    "    Simulates one time step and returns G.\n",
    "    \"\"\"\n",
    "    height, width = G.shape\n",
    "    for x in range(height):\n",
    "        for y in range(width):\n",
    "            if G[x, y] == PREDATOR:\n",
    "                G = predator_move(G, x,y, predator_reproduce_prob, predator_dying_prob)\n",
    "            elif G[x,y] == PREY:\n",
    "                G = prey_move(G, x,y, prey_reproduce_prob)\n",
    "    return G"
   ]
  },
  {
   "cell_type": "code",
   "execution_count": 12,
   "metadata": {},
   "outputs": [],
   "source": [
    "def show_world2 (G, vmin=EMPTY, vmax=PREDATOR, values=\"states\"):\n",
    "    \"\"\"A helper routine to visualize a 2-D world.\"\"\"\n",
    "    # Set color range\n",
    "    assert values in [\"states\", \"bool\"]\n",
    "#     if values == \"states\":\n",
    "#         vticks = range (vmin, vmax+1)\n",
    "#         vlabels = ['Empty', 'PREY', 'PREDATOR']\n",
    "#     else:\n",
    "#         vticks = [0, 1]\n",
    "#         vlabels = ['False (0)', 'True (1)']\n",
    "    \n",
    "    m, n = G.shape[0], G.shape[1]\n",
    "    fig = plt.figure()\n",
    "    ax = fig.add_subplot(111)\n",
    "    ax.pcolor (G, vmin=vmin, vmax=vmax, edgecolor='black')\n",
    "    #cb = plt.colorbar ()\n",
    "    #cb.set_ticks (vticks)\n",
    "    #cb.set_ticklabels (vlabels)\n",
    "    #plt.axis ('square')\n",
    "    #plt.axis ([0, m, 0, n])\n"
   ]
  },
  {
   "cell_type": "markdown",
   "metadata": {},
   "source": [
    "## Putting all together\n",
    "Now we need to simulate for some number of steps"
   ]
  },
  {
   "cell_type": "code",
   "execution_count": 13,
   "metadata": {
    "scrolled": false
   },
   "outputs": [
    {
     "data": {
      "image/png": "[encoded data removed]",
      "text/plain": [
       "<Figure size 432x288 with 1 Axes>"
      ]
     },
     "metadata": {
      "needs_background": "light"
     },
     "output_type": "display_data"
    },
    {
     "data": {
      "image/png": "[encoded data removed]",
      "text/plain": [
       "<Figure size 432x288 with 1 Axes>"
      ]
     },
     "metadata": {
      "needs_background": "light"
     },
     "output_type": "display_data"
    }
   ],
   "source": [
    "def summarize (G_t, verbose=True):\n",
    "    #print(count(prey(G_t)))\n",
    "    #print(count(predator(G_t)))\n",
    "    n_prey = count(prey (G_t))\n",
    "    n_predator = count(predator (G_t))\n",
    "   \n",
    "    \n",
    "    if verbose:\n",
    "        print (\"# prey:\", n_prey)\n",
    "        print (\"# predator:\", n_predator)\n",
    "    return n_prey, n_predator\n",
    "    \n",
    "def sim (G_0, max_steps, prey_reproduce_prob, predator_reproduce_prob, predator_dying_probability, verbose=False):\n",
    "    \"\"\"\n",
    "    Starting from a given initial state, `G_0`, this\n",
    "    function simulates up to `max_steps` time steps of\n",
    "    the predator prey cellular automaton.\n",
    "    \n",
    "    It returns a tuple `(t, G_t)` containing the final\n",
    "    time step `t <= max_steps` and simulation state\n",
    "    `G_t`.\n",
    "    \"\"\"\n",
    "    #print(G_0)\n",
    "    time = []\n",
    "    myprey = []\n",
    "    mypredator = []\n",
    "    t, G_t = 0, G_0.copy ()\n",
    "    num_prey, num_predator = summarize (G_t, verbose=verbose)\n",
    "    show_world2(G_t)\n",
    "    while (num_prey> 0) and (num_predator > 0) and (t < max_steps):\n",
    "        time = []\n",
    "        time.append(t)\n",
    "        t = t + 1\n",
    "        G_t = step (G_t, prey_reproduce_prob, predator_reproduce_prob, predator_dying_probability)\n",
    "        if verbose:\n",
    "            show_world2(G_t)\n",
    "        num_prey, num_predator = summarize (G_t, verbose=verbose)\n",
    "        mypredator.append(num_predator)\n",
    "        myprey.append(num_predator)\n",
    "    if not verbose:\n",
    "        show_world2(G_t)\n",
    "    return (time, myprey, mypredator, G_t)\n",
    "\n",
    "myworld = create_world(10, 10)\n",
    "# print(myworld)\n",
    "# print(count(prey(myworld)))\n",
    "\n",
    "\n",
    "(t, prey_num, predator_num, G_t) = sim(myworld, 10, 0.5, 0.5, 0, verbose=False)\n",
    "#print(prey_num, predator_num)"
   ]
  },
  {
   "cell_type": "markdown",
   "metadata": {},
   "source": [
    "## Simple User interaction"
   ]
  },
  {
   "cell_type": "code",
   "execution_count": 14,
   "metadata": {},
   "outputs": [
    {
     "data": {
      "application/vnd.jupyter.widget-view+json": {
       "model_id": "70ef7d91857d4cfea6bef753e714dbde",
       "version_major": 2,
       "version_minor": 0
      },
      "text/plain": [
       "IntText(value=10, description='world_size', style=DescriptionStyle(description_width='initial'))"
      ]
     },
     "metadata": {},
     "output_type": "display_data"
    },
    {
     "data": {
      "application/vnd.jupyter.widget-view+json": {
       "model_id": "fa5288dd35044f3ca18e604b3e79e887",
       "version_major": 2,
       "version_minor": 0
      },
      "text/plain": [
       "IntText(value=10, description='maximum predator', style=DescriptionStyle(description_width='initial'))"
      ]
     },
     "metadata": {},
     "output_type": "display_data"
    },
    {
     "data": {
      "application/vnd.jupyter.widget-view+json": {
       "model_id": "9f616cfdc41548ec988450c2a4846f5d",
       "version_major": 2,
       "version_minor": 0
      },
      "text/plain": [
       "FloatText(value=0.8, description='prey_reproductive_probability', style=DescriptionStyle(description_width='in…"
      ]
     },
     "metadata": {},
     "output_type": "display_data"
    },
    {
     "data": {
      "application/vnd.jupyter.widget-view+json": {
       "model_id": "b1cc49b2d3a54d6f8aa5dc62cbeb580e",
       "version_major": 2,
       "version_minor": 0
      },
      "text/plain": [
       "FloatText(value=0.8, description='predator_reproductive_probability', style=DescriptionStyle(description_width…"
      ]
     },
     "metadata": {},
     "output_type": "display_data"
    },
    {
     "data": {
      "application/vnd.jupyter.widget-view+json": {
       "model_id": "d15f65634b31472493385e3983c7ef90",
       "version_major": 2,
       "version_minor": 0
      },
      "text/plain": [
       "FloatText(value=0.6, description='predator_dying_probability', style=DescriptionStyle(description_width='initi…"
      ]
     },
     "metadata": {},
     "output_type": "display_data"
    },
    {
     "data": {
      "application/vnd.jupyter.widget-view+json": {
       "model_id": "e5ae5667b7544d449b5e2ae8ec27c284",
       "version_major": 2,
       "version_minor": 0
      },
      "text/plain": [
       "IntText(value=10, description='maximum step', style=DescriptionStyle(description_width='initial'))"
      ]
     },
     "metadata": {},
     "output_type": "display_data"
    },
    {
     "data": {
      "application/vnd.jupyter.widget-view+json": {
       "model_id": "34172007d2764812bc9d89c68a27b4e3",
       "version_major": 2,
       "version_minor": 0
      },
      "text/plain": [
       "Checkbox(value=True, description='Verbose: show all automata step', indent=False)"
      ]
     },
     "metadata": {},
     "output_type": "display_data"
    },
    {
     "data": {
      "application/vnd.jupyter.widget-view+json": {
       "model_id": "86e69a0540724e2f9f56241765364612",
       "version_major": 2,
       "version_minor": 0
      },
      "text/plain": [
       "Button(description='Simulate', style=ButtonStyle())"
      ]
     },
     "metadata": {},
     "output_type": "display_data"
    },
    {
     "name": "stdout",
     "output_type": "stream",
     "text": [
      "# prey: 70\n",
      "# predator: 10\n",
      "# prey: 75\n",
      "# predator: 3\n",
      "# prey: 84\n",
      "# predator: 2\n",
      "# prey: 92\n",
      "# predator: 0\n"
     ]
    },
    {
     "data": {
      "image/png": "[encoded data removed]",
      "text/plain": [
       "<Figure size 432x288 with 1 Axes>"
      ]
     },
     "metadata": {
      "needs_background": "light"
     },
     "output_type": "display_data"
    },
    {
     "data": {
      "image/png": "[encoded data removed]",
      "text/plain": [
       "<Figure size 432x288 with 1 Axes>"
      ]
     },
     "metadata": {
      "needs_background": "light"
     },
     "output_type": "display_data"
    },
    {
     "data": {
      "image/png": "[encoded data removed]",
      "text/plain": [
       "<Figure size 432x288 with 1 Axes>"
      ]
     },
     "metadata": {
      "needs_background": "light"
     },
     "output_type": "display_data"
    },
    {
     "data": {
      "image/png": "[encoded data removed]",
      "text/plain": [
       "<Figure size 432x288 with 1 Axes>"
      ]
     },
     "metadata": {
      "needs_background": "light"
     },
     "output_type": "display_data"
    }
   ],
   "source": [
    "##### User interaction\n",
    "style = {'description_width': 'initial'}\n",
    "prey_reproductive_probability = widgets.FloatText(description=\"prey_reproductive_probability\", value=0.8,style=style)\n",
    "predator_reproductive_probability = widgets.FloatText(description=\"predator_reproductive_probability\", value=0.8,style=style)\n",
    "predator_dying_probability = widgets.FloatText(description=\"predator_dying_probability\", value=0.6,style=style)\n",
    "world_size = widgets.IntText(description=\"world_size\", value=10,style=style)\n",
    "max_step = widgets.IntText(description=\"maximum step\", value=10,style=style)\n",
    "max_predator = widgets.IntText(description=\"maximum predator\", value=10,style=style)\n",
    "verbose = widgets.Checkbox(\n",
    "    value=False,\n",
    "    description='Verbose: show all automata step',\n",
    "    disabled=False,\n",
    "    indent=False\n",
    ")\n",
    "\n",
    "\n",
    "\n",
    "show_only_graph = widgets.IntText(description=\"world_size\", value=1,style=style)\n",
    "button_automata = widgets.Button(description=\"Simulate\")\n",
    "display(world_size, max_predator,prey_reproductive_probability, predator_reproductive_probability, predator_dying_probability, max_step, verbose, button_automata)\n",
    "\n",
    "\n",
    "def simulate(b):\n",
    "    clear_output()\n",
    "    display(world_size, max_predator,prey_reproductive_probability, predator_reproductive_probability, predator_dying_probability, max_step, verbose, button_automata)\n",
    "\n",
    "    prey_reproduce_rate = prey_reproductive_probability.value\n",
    "    predator_reproduce_rate = predator_reproductive_probability.value\n",
    "    dying_rate = predator_dying_probability.value\n",
    "    max_steps = max_step.value\n",
    "    verbosity = verbose.value  \n",
    "    myworld = create_world (world_size.value, max_predator.value)\n",
    "    #print(myworld)\n",
    "    (t, prey_num, predator_num, G_t) = sim(myworld, max_steps, prey_reproduce_rate, predator_reproduce_rate, dying_rate, verbose=verbosity)\n",
    "    #print(t, prey_num, predator_num)\n",
    "    \n",
    "button_automata.on_click(simulate)"
   ]
  },
  {
   "cell_type": "code",
   "execution_count": null,
   "metadata": {},
   "outputs": [],
   "source": []
  },
  {
   "cell_type": "code",
   "execution_count": null,
   "metadata": {},
   "outputs": [],
   "source": []
  },
  {
   "cell_type": "code",
   "execution_count": null,
   "metadata": {},
   "outputs": [],
   "source": []
  }
 ],
 "metadata": {
  "kernelspec": {
   "display_name": "Python 3",
   "language": "python",
   "name": "python3"
  },
  "language_info": {
   "codemirror_mode": {
    "name": "ipython",
    "version": 3
   },
   "file_extension": ".py",
   "mimetype": "text/x-python",
   "name": "python",
   "nbconvert_exporter": "python",
   "pygments_lexer": "ipython3",
   "version": "3.7.4"
  }
 },
 "nbformat": 4,
 "nbformat_minor": 2
}
