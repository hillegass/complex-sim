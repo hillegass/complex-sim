{
 "cells": [
  {
   "cell_type": "code",
   "execution_count": 1,
   "metadata": {},
   "outputs": [
    {
     "name": "stdout",
     "output_type": "stream",
     "text": [
      "3.7.6 (default, Jan  8 2020, 13:42:34) \n",
      "[Clang 4.0.1 (tags/RELEASE_401/final)]\n"
     ]
    }
   ],
   "source": [
    "import sys\n",
    "print(sys.version)"
   ]
  },
  {
   "cell_type": "markdown",
   "metadata": {},
   "source": [
    "# Simulating a Predator and Prey Relationship\n",
    "\n",
    "Without a predator, rabbits will reproduce until they reach the carrying capacity of the land. When coyotes show up, they will eat the rabbits and reproduce until they can't find enough rabbits. We will explore the fluctuations in the two populations over time."
   ]
  },
  {
   "cell_type": "markdown",
   "metadata": {},
   "source": [
    "## Part 1: Rabbits without predators\n",
    "\n",
    "According to [Mother Earth News](https://www.motherearthnews.com/homesteading-and-livestock/rabbits-on-pasture-intensive-grazing-with-bunnies-zbcz1504), a rabbit eats six square feet of pasture per day. Let's assume that our rabbits live in a five acre clearing in a forest: 217,800 square feet/6 square feet = 36,300 rabbit-days worth of food. For simplicity, let's assume the grass grows back in two months. Thus, the carrying capacity of five acres is 36,300/60 = 605 rabbits.\n",
    "\n",
    "Female rabbits reproduce about six to seven times per year. They have six to ten children in a litter.  According to [Wikipedia](https://en.wikipedia.org/wiki/Rabbit), a wild rabbit reaches sexual maturity when it is about six months old and typically lives one to two years. For simplicity, let's assume that in the presence of unlimited food, a rabbit lives forever, is immediately sexually mature, and has 1.5 children every month.\n",
    "\n",
    "For our purposes, then, let $x_t$ be the number of rabbits in our five acre clearing on month $t$.\n",
    "$$\n",
    "\\begin{equation*}\n",
    "  R_t = R_{t-1} + 1.5\\frac{605 - R_{t-1}}{605} R_{t-1}\n",
    "\\end{equation*}\n",
    "$$\n",
    "\n",
    "The formula could be put into general form\n",
    "$$\n",
    "\\begin{equation*}\n",
    "  R_t = R_{t-1} + \\text{growth rate} \\times \\big( \\frac{capacity - R_{t-1}}{capacity} \\big) R_{t-1}\n",
    "\\end{equation*}\n",
    "$$\n",
    "\n",
    "By doing this, we allow users to interact with growth rate and the capacity value visualize different interaction \n"
   ]
  },
  {
   "cell_type": "code",
   "execution_count": 2,
   "metadata": {},
   "outputs": [],
   "source": [
    "from __future__ import print_function\n",
    "from ipywidgets import interact, interactive, fixed, interact_manual\n",
    "from IPython.display import display, clear_output\n",
    "import ipywidgets as widgets\n",
    "import matplotlib.pyplot as plt\n",
    "import numpy as np"
   ]
  },
  {
   "cell_type": "code",
   "execution_count": 3,
   "metadata": {
    "scrolled": false
   },
   "outputs": [
    {
     "data": {
      "application/vnd.jupyter.widget-view+json": {
       "model_id": "25e361c9b86a40508d73c7da2f60b82c",
       "version_major": 2,
       "version_minor": 0
      },
      "text/plain": [
       "FloatText(value=605.0, description='Capacity')"
      ]
     },
     "metadata": {},
     "output_type": "display_data"
    },
    {
     "data": {
      "application/vnd.jupyter.widget-view+json": {
       "model_id": "3bc2bcf8cc3f42f8ac59f2d3955f1401",
       "version_major": 2,
       "version_minor": 0
      },
      "text/plain": [
       "FloatText(value=1.5, description='Growth rate')"
      ]
     },
     "metadata": {},
     "output_type": "display_data"
    },
    {
     "data": {
      "application/vnd.jupyter.widget-view+json": {
       "model_id": "2e48509af9a443e08c4b1cf91f7d28b6",
       "version_major": 2,
       "version_minor": 0
      },
      "text/plain": [
       "Button(description='Plot Graph', style=ButtonStyle())"
      ]
     },
     "metadata": {},
     "output_type": "display_data"
    }
   ],
   "source": [
    "%matplotlib inline\n",
    "capacity = widgets.FloatText(description=\"Capacity\", value=605)\n",
    "growth_rate = widgets.FloatText(description=\"Growth rate\", value=1.5)\n",
    "button = widgets.Button(description=\"Plot Graph\")\n",
    "display(capacity, growth_rate, button)\n",
    "def plot_graph(b):\n",
    "    clear_output()\n",
    "    display(capacity, growth_rate, button)\n",
    "    fig = plt.figure()\n",
    "    ax = fig.add_subplot(111)\n",
    "    t = np.arange(0, 20, 1)\n",
    "    s = np.zeros(t.shape)\n",
    "    R = 1\n",
    "    for i in range(t.shape[0]):\n",
    "        s[i] = R\n",
    "        R = R + growth_rate.value * (capacity.value - R)/(capacity.value) * R\n",
    "        \n",
    "    ax.plot(t, s)\n",
    "    ax.set(xlabel='time (months)', ylabel='rabbits',\n",
    "       title='Rabbits Without Predators')\n",
    "    ax.grid()\n",
    "    fig.canvas.draw_idle()\n",
    "\n",
    "button.on_click(plot_graph)"
   ]
  },
  {
   "cell_type": "markdown",
   "metadata": {},
   "source": [
    "## Part 2: Coyotes without preys\n",
    "According to [Huntwise](https://www.besthuntingtimes.com/blog/2020/2/3/why-you-should-coyote-hunt-how-to-get-started), coyotes need to consume about 2-3 pounds of food per day. Their diet is 90 percent mammalian. The perfect adult cottontail rabbits weigh 2.6 pounds on average. Thus, we assume the coyote eats one rabbit per day. \n",
    "\n",
    "For coyotes, the breeding season is in February and March. According to [Wikipedia](https://en.wikipedia.org/wiki/Coyote#Social_and_reproductive_behaviors), females have a gestation period of 63 days, with an average litter size of 6, though the number fluctuates depending on coyote population density and the abundance of food. By fall, the pups are old enough to hunt for themselves.\n",
    "\n",
    "In the absence of rabbits, the number of coyotes will drop, as their food supply is scarce.\n",
    "The formula could be put into general form:\n",
    "\n",
    "$$\n",
    "\\begin{eqnarray}\n",
    "  C_t & \\sim & (1 - \\text{percent decrease per month}) \\times C_{t-1},\n",
    "\\end{eqnarray}\n",
    "$$\n",
    "\n"
   ]
  },
  {
   "cell_type": "code",
   "execution_count": 18,
   "metadata": {
    "scrolled": true
   },
   "outputs": [
    {
     "data": {
      "application/vnd.jupyter.widget-view+json": {
       "model_id": "ca219c45839b46f8b2b0e510f7f62262",
       "version_major": 2,
       "version_minor": 0
      },
      "text/plain": [
       "FloatText(value=200.0, description='Initial Capacity', style=DescriptionStyle(description_width='initial'))"
      ]
     },
     "metadata": {},
     "output_type": "display_data"
    },
    {
     "data": {
      "application/vnd.jupyter.widget-view+json": {
       "model_id": "630c0e64a1bb47039f2bbcdc251e55c4",
       "version_major": 2,
       "version_minor": 0
      },
      "text/plain": [
       "FloatText(value=0.5, description='Declining rate')"
      ]
     },
     "metadata": {},
     "output_type": "display_data"
    },
    {
     "data": {
      "application/vnd.jupyter.widget-view+json": {
       "model_id": "8b5637d1cf3440f6a04bbd099de12345",
       "version_major": 2,
       "version_minor": 0
      },
      "text/plain": [
       "Button(description='Plot Graph', style=ButtonStyle())"
      ]
     },
     "metadata": {},
     "output_type": "display_data"
    },
    {
     "data": {
      "image/png": "[encoded data removed]",
      "text/plain": [
       "<Figure size 432x288 with 1 Axes>"
      ]
     },
     "metadata": {
      "needs_background": "light"
     },
     "output_type": "display_data"
    }
   ],
   "source": [
    "%matplotlib inline\n",
    "layout = widgets.Layout(width='auto')\n",
    "from ipywidgets import IntSlider\n",
    "style = {'description_width': 'initial'}\n",
    "\n",
    "capacity=widgets.FloatText(description=\"Initial Capacity\",style=style,value=200.0,)\n",
    "declining_rate=widgets.FloatText(description=\"Declining rate\",value=0.5)\n",
    "button=widgets.Button(description=\"Plot Graph\")\n",
    "display(capacity,declining_rate,button)\n",
    "\n",
    "\n",
    "def plot_graph(b):\n",
    "    clear_output()\n",
    "    display(capacity, declining_rate, button)\n",
    "    fig=plt.figure()\n",
    "    ax=fig.add_subplot(111)\n",
    "    x=np.arange(0,10,0.5)\n",
    "    y=np.zeros(x.shape)\n",
    "    C=capacity.value\n",
    "    for i in range(len(x)):\n",
    "        y[i]=C\n",
    "        C=(1 - declining_rate.value)*C\n",
    "    ax.plot(x,y)\n",
    "    \n",
    "button.on_click(plot_graph)\n"
   ]
  },
  {
   "cell_type": "code",
   "execution_count": null,
   "metadata": {},
   "outputs": [],
   "source": []
  },
  {
   "cell_type": "code",
   "execution_count": null,
   "metadata": {},
   "outputs": [],
   "source": []
  }
 ],
 "metadata": {
  "anaconda-cloud": {},
  "kernelspec": {
   "display_name": "Python 3",
   "language": "python",
   "name": "python3"
  },
  "language_info": {
   "codemirror_mode": {
    "name": "ipython",
    "version": 3
   },
   "file_extension": ".py",
   "mimetype": "text/x-python",
   "name": "python",
   "nbconvert_exporter": "python",
   "pygments_lexer": "ipython3",
   "version": "3.7.6"
  }
 },
 "nbformat": 4,
 "nbformat_minor": 4
}
