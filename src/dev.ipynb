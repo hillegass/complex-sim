{
 "cells": [
  {
   "cell_type": "markdown",
   "metadata": {},
   "source": [
    "# Simulating Predator and Prey Relationship\n",
    "\n",
    "Without a predator, rabbits will reproduce until they reach the carrying capacity of the land. When coyotes show up, they will eat the rabbits and reproduce until they can't find enough rabbits. We will explore the fluctuations in the two populations over time."
   ]
  },
  {
   "cell_type": "markdown",
   "metadata": {},
   "source": [
    "# Using Lotka-Volterra Model"
   ]
  },
  {
   "cell_type": "markdown",
   "metadata": {},
   "source": [
    "## Part 1: Rabbits without predators\n",
    "\n",
    "According to [Mother Earth News](https://www.motherearthnews.com/homesteading-and-livestock/rabbits-on-pasture-intensive-grazing-with-bunnies-zbcz1504), a rabbit eats six square feet of pasture per day. Let's assume that our rabbits live in a five acre clearing in a forest: 217,800 square feet/6 square feet = 36,300 rabbit-days worth of food. For simplicity, let's assume the grass grows back in two months. Thus, the carrying capacity of five acres is 36,300/60 = 605 rabbits.\n",
    "\n",
    "Female rabbits reproduce about six to seven times per year. They have six to ten children in a litter.  According to [Wikipedia](https://en.wikipedia.org/wiki/Rabbit), a wild rabbit reaches sexual maturity when it is about six months old and typically lives one to two years. For simplicity, let's assume that in the presence of unlimited food, a rabbit lives forever, is immediately sexually mature, and has 1.5 children every month.\n",
    "\n",
    "For our purposes, then, let $x_t$ be the number of rabbits in our five acre clearing on month $t$.\n",
    "$$\n",
    "\\begin{equation*}\n",
    "  R_t = R_{t-1} + 1.5\\frac{605 - R_{t-1}}{605} R_{t-1}\n",
    "\\end{equation*}\n",
    "$$\n",
    "\n",
    "The formula could be put into general form\n",
    "$$\n",
    "\\begin{equation*}\n",
    "  R_t = R_{t-1} + growth_{R} \\times \\big( \\frac{capacity_{R} - R_{t-1}}{capacity_{R}} \\big) R_{t-1}\n",
    "\\end{equation*}\n",
    "$$\n",
    "\n",
    "By doing this, we allow users to interact with growth rate and the capacity value visualize different interaction \n"
   ]
  },
  {
   "cell_type": "code",
   "execution_count": 1,
   "metadata": {},
   "outputs": [],
   "source": [
    "from __future__ import print_function\n",
    "from ipywidgets import interact, interactive, fixed, interact_manual\n",
    "from IPython.display import display, clear_output\n",
    "import ipywidgets as widgets\n",
    "import matplotlib.pyplot as plt\n",
    "import numpy as np"
   ]
  },
  {
   "cell_type": "code",
   "execution_count": 9,
   "metadata": {
    "scrolled": false
   },
   "outputs": [
    {
     "data": {
      "application/vnd.jupyter.widget-view+json": {
       "model_id": "cfe80da383e84feaa461dc69467d1b5d",
       "version_major": 2,
       "version_minor": 0
      },
      "text/plain": [
       "FloatText(value=1.0, description='Initial population', style=DescriptionStyle(description_width='initial'))"
      ]
     },
     "metadata": {},
     "output_type": "display_data"
    },
    {
     "data": {
      "application/vnd.jupyter.widget-view+json": {
       "model_id": "b64550f2fcc04d8fa85107972e16aab6",
       "version_major": 2,
       "version_minor": 0
      },
      "text/plain": [
       "FloatText(value=605.0, description='Capacity')"
      ]
     },
     "metadata": {},
     "output_type": "display_data"
    },
    {
     "data": {
      "application/vnd.jupyter.widget-view+json": {
       "model_id": "ff9c46dc4e914a289645cff84d68bea3",
       "version_major": 2,
       "version_minor": 0
      },
      "text/plain": [
       "FloatText(value=2.0, description='Growth rate')"
      ]
     },
     "metadata": {},
     "output_type": "display_data"
    },
    {
     "data": {
      "application/vnd.jupyter.widget-view+json": {
       "model_id": "1fc945c5e27649ef888172649d273f60",
       "version_major": 2,
       "version_minor": 0
      },
      "text/plain": [
       "Button(description='Plot Graph', style=ButtonStyle())"
      ]
     },
     "metadata": {},
     "output_type": "display_data"
    },
    {
     "data": {
      "image/png": "[encoded data removed]",
      "text/plain": [
       "<Figure size 432x288 with 1 Axes>"
      ]
     },
     "metadata": {
      "needs_background": "light"
     },
     "output_type": "display_data"
    }
   ],
   "source": [
    "%matplotlib inline\n",
    "style = {'description_width': 'initial'}\n",
    "capacity_R = widgets.FloatText(description=\"Capacity\", value=605)\n",
    "growth_rate_R = widgets.FloatText(description=\"Growth rate\", value=1.5)\n",
    "initial_R = widgets.FloatText(description=\"Initial population\",style=style, value=1)\n",
    "button_R = widgets.Button(description=\"Plot Graph\")\n",
    "display(initial_R, capacity_R, growth_rate_R, button_R)\n",
    "\n",
    "def plot_graph_r(b):\n",
    "    clear_output()\n",
    "    display(initial_R, capacity_R, growth_rate_R, button_R)\n",
    "    fig = plt.figure()\n",
    "    ax = fig.add_subplot(111)\n",
    "    t = np.arange(0, 20, 1)\n",
    "    s = np.zeros(t.shape)\n",
    "    R = initial_R.value\n",
    "    for i in range(t.shape[0]):\n",
    "        s[i] = R\n",
    "        #print(s[i])\n",
    "        nextvalue = growth_rate_R.value * (capacity_R.value - R)/(capacity_R.value) * R\n",
    "        #print('nextvalue: ', nextvalue)\n",
    "        R = R + nextvalue\n",
    "    \n",
    "  \n",
    "    ax.plot(t, s)\n",
    "    ax.set(xlabel='time (months)', ylabel='rabbits',\n",
    "       title='Rabbits Without Predators')\n",
    "    ax.grid()\n",
    "\n",
    "button_R.on_click(plot_graph_r)"
   ]
  },
  {
   "cell_type": "markdown",
   "metadata": {},
   "source": [
    "## Part 2: Coyotes without preys\n",
    "According to [Huntwise](https://www.besthuntingtimes.com/blog/2020/2/3/why-you-should-coyote-hunt-how-to-get-started), coyotes need to consume about 2-3 pounds of food per day. Their diet is 90 percent mammalian. The perfect adult cottontail rabbits weigh 2.6 pounds on average. Thus, we assume the coyote eats one rabbit per day. \n",
    "\n",
    "For coyotes, the breeding season is in February and March. According to [Wikipedia](https://en.wikipedia.org/wiki/Coyote#Social_and_reproductive_behaviors), females have a gestation period of 63 days, with an average litter size of 6, though the number fluctuates depending on coyote population density and the abundance of food. By fall, the pups are old enough to hunt for themselves.\n",
    "\n",
    "In the absence of rabbits, the number of coyotes will drop, as their food supply is scarce.\n",
    "The formula could be put into general form:\n",
    "\n",
    "$$\n",
    "\\begin{align*}\n",
    "  C_t & \\sim (1 - death_{C}) \\times C_{t-1}\\\\\n",
    "  &= C_{t-1} - death_{C} \\times C_{t-1}\n",
    "\\end{align*}\n",
    "$$\n",
    "\n"
   ]
  },
  {
   "cell_type": "code",
   "execution_count": 14,
   "metadata": {
    "scrolled": true
   },
   "outputs": [
    {
     "data": {
      "application/vnd.jupyter.widget-view+json": {
       "model_id": "f9f6d6d817d54670b17341444292fbe9",
       "version_major": 2,
       "version_minor": 0
      },
      "text/plain": [
       "FloatText(value=200.0, description='Initial Population', style=DescriptionStyle(description_width='initial'))"
      ]
     },
     "metadata": {},
     "output_type": "display_data"
    },
    {
     "data": {
      "application/vnd.jupyter.widget-view+json": {
       "model_id": "50c19c71663c48e192b28f3662807491",
       "version_major": 2,
       "version_minor": 0
      },
      "text/plain": [
       "FloatText(value=0.5, description='Death rate')"
      ]
     },
     "metadata": {},
     "output_type": "display_data"
    },
    {
     "data": {
      "application/vnd.jupyter.widget-view+json": {
       "model_id": "7d94eeb454d643d9b908ad6cb356603e",
       "version_major": 2,
       "version_minor": 0
      },
      "text/plain": [
       "Button(description='Plot Graph', style=ButtonStyle())"
      ]
     },
     "metadata": {},
     "output_type": "display_data"
    },
    {
     "data": {
      "image/png": "[encoded data removed]",
      "text/plain": [
       "<Figure size 432x288 with 1 Axes>"
      ]
     },
     "metadata": {
      "needs_background": "light"
     },
     "output_type": "display_data"
    }
   ],
   "source": [
    "%matplotlib inline\n",
    "style = {'description_width': 'initial'}\n",
    "initial_C=widgets.FloatText(description=\"Initial Population\",style=style,value=200.0)\n",
    "declining_rate_C=widgets.FloatText(description=\"Death rate\",value=0.5)\n",
    "button_C=widgets.Button(description=\"Plot Graph\")\n",
    "display(initial_C, declining_rate_C, button_C)\n",
    "\n",
    "def plot_graph_c(b):\n",
    "    clear_output()\n",
    "    display(initial_C, declining_rate_C, button_C)\n",
    "    fig = plt.figure()\n",
    "    ax = fig.add_subplot(111)\n",
    "    t1 = np.arange(0, 20, 1)\n",
    "    s1 = np.zeros(t1.shape)\n",
    "    C = initial_C.value\n",
    "    for i in range(t1.shape[0]):\n",
    "        s1[i] = C\n",
    "        C = (1 - declining_rate_C.value)*C\n",
    "        \n",
    "    ax.plot(t1, s1)\n",
    "    ax.set(xlabel='time (months)', ylabel='coyotes',\n",
    "       title='Coyotes Without Predators')\n",
    "    ax.grid()\n",
    "\n",
    "button_C.on_click(plot_graph_c)\n"
   ]
  },
  {
   "cell_type": "markdown",
   "metadata": {},
   "source": [
    "## Part 3: Interaction Between Coyotes and Rabbit\n",
    "With the simple interaction from the first two parts, now we can combine both interaction and come out with simple interaction.\n",
    "$$\n",
    "\\begin{align*}\n",
    "  R_t &= R_{t-1} + growth_{R} \\times \\big( \\frac{capacity_{R} - R_{t-1}}{capacity_{R}} \\big) R_{t-1} - death_{R}(C_{t-1})\\times R_{t-1}\\\\\\\\\n",
    "  C_t &= C_{t-1} - death_{C} \\times C_{t-1} + growth_{C}(R_{t-1}) \\times C_{t-1}\n",
    "\\end{align*}\n",
    "$$\n",
    "\n",
    "In equations above, death rate of rabbit is a function parameterized by the amount of coyote. Similarly, the growth rate of coyotes is a function parameterized by the amount of the rabbit.\n",
    "\n",
    "The death rate of the rabbit should be $0$ if there are no coyotes, while it should approach $1$ if there are many coyotes. One of the formula fulfilling this characteristics is hyperbolic function.\n",
    "\n",
    "$$\n",
    "\\begin{equation}\n",
    "death_R(C) = 1 - \\frac{1}{xC + 1}\n",
    "\\end{equation}\n",
    "$$\n",
    "\n",
    "where $x$ determines how quickly $death_R$ increases as the number of coyotes ($C$) increases. Similarly, the growth rate of the coyotes should be $0$ if there are no rabbits, while it should approach infinity if there are many rabbits. One of the formula fulfilling this characteristics is a linear function.\n",
    "\n",
    "$$\n",
    "\\begin{equation}\n",
    "growth_C(R) = yC\n",
    "\\end{equation}\n",
    "$$\n",
    "\n",
    "where $y$ determines how quickly $growth_C$ increases as number of rabbit ($R$) increases.\n",
    "\n",
    "Putting all together, the final equtions are\n",
    "\n",
    "$$\n",
    "\\begin{align*}\n",
    "  R_t &= R_{t-1} + growth_{R} \\times \\big( \\frac{capacity_{R} - R_{t-1}}{capacity_{R}} \\big) R_{t-1} - \\big( 1 - \\frac{1}{xC_{t-1} + 1} \\big)\\times R_{t-1}\\\\\\\\\n",
    "  C_t &= C_{t-1} - death_{C} \\times C_{t-1} + yR_{t-1}C_{t-1}\n",
    "\\end{align*}\n",
    "$$\n",
    "\n"
   ]
  },
  {
   "cell_type": "code",
   "execution_count": 4,
   "metadata": {},
   "outputs": [
    {
     "data": {
      "application/vnd.jupyter.widget-view+json": {
       "model_id": "1075c9c62efc42f5b0218698d7bb1d66",
       "version_major": 2,
       "version_minor": 0
      },
      "text/plain": [
       "FloatText(value=1.0, description='Initial Rabbit')"
      ]
     },
     "metadata": {},
     "output_type": "display_data"
    },
    {
     "data": {
      "application/vnd.jupyter.widget-view+json": {
       "model_id": "a6cd0b8140434ad5a25a839c1f71ac04",
       "version_major": 2,
       "version_minor": 0
      },
      "text/plain": [
       "FloatText(value=1.0, description='Initial Coyote')"
      ]
     },
     "metadata": {},
     "output_type": "display_data"
    },
    {
     "data": {
      "application/vnd.jupyter.widget-view+json": {
       "model_id": "1490662b595d43d794e66848999d3336",
       "version_major": 2,
       "version_minor": 0
      },
      "text/plain": [
       "FloatText(value=5.0, description='capacity_R')"
      ]
     },
     "metadata": {},
     "output_type": "display_data"
    },
    {
     "data": {
      "application/vnd.jupyter.widget-view+json": {
       "model_id": "117ff8489d26402291a4469c644601ea",
       "version_major": 2,
       "version_minor": 0
      },
      "text/plain": [
       "FloatText(value=1.0, description='growth_R')"
      ]
     },
     "metadata": {},
     "output_type": "display_data"
    },
    {
     "data": {
      "application/vnd.jupyter.widget-view+json": {
       "model_id": "4ef82b2f20d0468f9e22d94564210b0d",
       "version_major": 2,
       "version_minor": 0
      },
      "text/plain": [
       "FloatText(value=1.0, description='death_C')"
      ]
     },
     "metadata": {},
     "output_type": "display_data"
    },
    {
     "data": {
      "application/vnd.jupyter.widget-view+json": {
       "model_id": "b49458262f6c4f4db499a279251d553b",
       "version_major": 2,
       "version_minor": 0
      },
      "text/plain": [
       "FloatText(value=1.0, description='x')"
      ]
     },
     "metadata": {},
     "output_type": "display_data"
    },
    {
     "data": {
      "application/vnd.jupyter.widget-view+json": {
       "model_id": "0f5e9108df4045e4bb3da8f2065774d3",
       "version_major": 2,
       "version_minor": 0
      },
      "text/plain": [
       "FloatText(value=1.0, description='y')"
      ]
     },
     "metadata": {},
     "output_type": "display_data"
    },
    {
     "data": {
      "application/vnd.jupyter.widget-view+json": {
       "model_id": "d594a54705c1421898bd97e184962036",
       "version_major": 2,
       "version_minor": 0
      },
      "text/plain": [
       "Button(description='Plot Graph', style=ButtonStyle())"
      ]
     },
     "metadata": {},
     "output_type": "display_data"
    },
    {
     "data": {
      "image/png": "[encoded data removed]",
      "text/plain": [
       "<Figure size 432x288 with 1 Axes>"
      ]
     },
     "metadata": {
      "needs_background": "light"
     },
     "output_type": "display_data"
    }
   ],
   "source": [
    "#### %matplotlib inline\n",
    "initial_rabbit = widgets.FloatText(description=\"Initial Rabbit\", value=1)\n",
    "initial_coyote = widgets.FloatText(description=\"Initial Coyote\", value=1)\n",
    "capacity = widgets.FloatText(description=\"capacity_R\", value=5)\n",
    "growth_rate = widgets.FloatText(description=\"growth_R\", value=1)\n",
    "death_rate = widgets.FloatText(description=\"death_C\", value=1)\n",
    "x = widgets.FloatText(description=\"x\", value=1)\n",
    "y = widgets.FloatText(description=\"y\", value=1)\n",
    "button = widgets.Button(description=\"Plot Graph\")\n",
    "display(initial_rabbit, initial_coyote, capacity, growth_rate, death_rate, x, y, button)\n",
    "def plot_graph(b):\n",
    "    clear_output()\n",
    "    display(initial_rabbit, initial_coyote, capacity, growth_rate, death_rate, x, y, button)\n",
    "    fig = plt.figure()\n",
    "    ax = fig.add_subplot(111)\n",
    "    t = np.arange(0, 20, 0.5)\n",
    "    s = np.zeros(t.shape)\n",
    "    p = np.zeros(t.shape)\n",
    "    R = initial_rabbit.value\n",
    "    C = initial_coyote.value\n",
    "    for i in range(t.shape[0]):\n",
    "        s[i] = R\n",
    "        p[i] = C\n",
    "        R = R + growth_rate.value * (capacity.value - R)/(capacity.value) * R - (1 - 1/(x.value*C + 1))*R\n",
    "        C = C - death_rate.value * C  + y.value*s[i]*C\n",
    "        \n",
    "    ax.plot(t, s, label=\"rabit\")\n",
    "    ax.plot(t, p, label=\"coyote\")\n",
    "    ax.set(xlabel='time (months)', ylabel='rabbits',\n",
    "       title='Coyotes Rabbit Predator Prey Relationship')\n",
    "    ax.grid()\n",
    "    ax.legend()\n",
    "\n",
    "button.on_click(plot_graph)"
   ]
  },
  {
   "cell_type": "markdown",
   "metadata": {},
   "source": [
    "## Using ABM simulation\n",
    "In ABMs of ecological and evolutionary dynamics, prey naturally grow but get eaten by predators, while the predators grow if they get prey, but naturally die off if they can't find any food. \n",
    "In our ABM simulation model, we will randomly choosing an agent to update the system's state in an asynchronous manner.\n",
    "### Design the data structure to store the attributes of the the prey and predators\n",
    "The information about about agent type must be represented in the data structure, also in order to simulate the interactions in a spacel, the information about the agents spatial location is also needed. In the code, we use r_init and c_init to represent the initial population of rabbits and coyotes. The for loop iterates r_init + c_init times, and in the first r_init iteration, the prey agents are generated, while the predator agents are generated for the rest."
   ]
  },
  {
   "cell_type": "markdown",
   "metadata": {},
   "source": [
    "### The rules for how prey and predators behave on their own:\n",
    "If a prey agent meets a predator agent, it dies with some probability because of predation. We will implement death as the removal of the prey from the preys agents list.\n",
    "If a predator agent can't find any prey agents nearby, it dies with some probability because of the lack of food. Otherwise, it will reproduce at a certain reproduction rate. \n",
    "According to [Purely Facts](http://purelyfacts.com/question/12/which-is-faster-a-coyote-or-a-rabbit?DDA=28&DDB=98),  the top speed is roughly 64 kph for coyote, and 4 kph for rabbit, so let's assume coyotes are 15 times faster than rabbit. Furthermore, to ensure our simulation model can naturally handle situations where the size of the agent population changes rapidly, and guarantees that each agent is updated once, on average, in each unit time length, we defined a update_one_unit_time() function to address the issue. We make the unit length of time passes by in each asynchronous updating proportional to the size of the agent populationat the time of updating. This way, the progress of time will be steady in the simulation, even if the number of agents changes over time."
   ]
  },
  {
   "cell_type": "code",
   "execution_count": null,
   "metadata": {},
   "outputs": [],
   "source": [
    "from __future__ import print_function\n",
    "from ipywidgets import interact, interactive, fixed, interact_manual\n",
    "from IPython.display import display, clear_output\n",
    "import ipywidgets as widgets\n",
    "import matplotlib\n",
    "matplotlib.use('TkAgg')\n",
    "from pylab import *\n",
    "import copy as cp\n",
    "import pycxsimulator\n",
    "\n",
    "# Supress warnings\n",
    "# import sys\n",
    "# oldstderr = sys.stderr\n",
    "# sys.stderr = open('/dev/null', 'w')\n",
    "\n",
    "\n",
    "# Give default values\n",
    "r_init = 400 # Initial rabbit population \n",
    "c_init = 12 #Initial coyotes population\n",
    "nr = 605 # Capacity of rabbits\n",
    "mr = 20.0 # Magnitude of movement of rabbits in feet per day\n",
    "rr = 0.1 # Reproduction rate of rabbits (per day)\n",
    "dc = 0.07 # Death rate of coyotes when there is no rabbit (per day)\n",
    "rc = 0.03 # Reproduction rate of coyotes (per day)\n",
    "cd = 20.0 # Radius for collision detection in feet\n",
    "mc = mr * 2 # Magnitude of movement of coyotes in feet per day\n",
    "cc = 3 # How many unburned rabbits a coyote can contain\n",
    "ic = 0.04 # Likelihood that an immigrant coyote will show up on any day\n",
    "ir = 0.1 #Likelihood that an immigrant rabbit will show up on any day\n",
    "cdsq = cd**2\n",
    "\n",
    "width = 500 # Width of pasture in feet\n",
    "height = 500 # Height of pasture in feet\n",
    "\n",
    "class Rabbit:\n",
    "    pass\n",
    "\n",
    "class Coyote:\n",
    "    pass\n",
    "\n",
    "def initialize():\n",
    "    '''\n",
    "    Created for CSE/ECE 6730 final project\n",
    "    '''\n",
    "    global rabbits, coyotes, rdata, cdata\n",
    "    rabbits = []\n",
    "    coyotes = []\n",
    "    rdata = []\n",
    "    cdata = []\n",
    "    for i in range(r_init):\n",
    "        ag = Rabbit()\n",
    "        ag.birthday = 0\n",
    "        ag.x = width * random()\n",
    "        ag.y = height * random()\n",
    "        rabbits.append(ag)\n",
    "        \n",
    "    for i in range(c_init):\n",
    "        ag = Coyote()\n",
    "        ag.unburned_rabbits = 0 #Born hungry\n",
    "        ag.birthday = 0\n",
    "        ag.x = width * random()\n",
    "        ag.y = height * random()\n",
    "        coyotes.append(ag)\n",
    "\n",
    "        \n",
    "def update_one_unit_time():\n",
    "    global rabbits, coyotes\n",
    "    \n",
    "    new_coyotes = []\n",
    "    new_rabbits = []\n",
    "\n",
    "    # Find the weighted center of mass for coyotes\n",
    "    # Coyotes who see no rabbits will head in this direction\n",
    "    center_x = width / 2.0\n",
    "    center_y = height / 2.0\n",
    "    for coyote in coyotes:\n",
    "        sx = 0.0\n",
    "        sy = 0.0\n",
    "        n = 0\n",
    "        sx += coyote.x * coyote.unburned_rabbits\n",
    "        sy += coyote.y * coyote.unburned_rabbits\n",
    "        n += coyote.unburned_rabbits\n",
    "        if n > 0:\n",
    "            center_x = sx / n\n",
    "            center_y = sy / n\n",
    "\n",
    "    # Immigrant coyote?\n",
    "    if random() < ic:\n",
    "            ag = Coyote()\n",
    "            ag.unburned_rabbits = 1\n",
    "            ag.birthday = 0 # FIXME\n",
    "            ag.x = width * random()\n",
    "            ag.y = height * random()\n",
    "            new_coyotes.append(ag) \n",
    "            \n",
    "    # Immigrant rabbit?\n",
    "    if random() < ir:\n",
    "            ag = Rabbit()\n",
    "            ag.birthday = 0 # FIXME\n",
    "            ag.x = width * random()\n",
    "            ag.y = height * random()\n",
    "            new_rabbits.append(ag)            \n",
    "        \n",
    "    # Move rabbits randomly\n",
    "    for ag in rabbits:    \n",
    "        ag.x += uniform(-mr, mr)\n",
    "        ag.y += uniform(-mr, mr)\n",
    "        ag.x = width if ag.x > width else 0 if ag.x < 0 else ag.x\n",
    "        ag.y = height if ag.y > height else 0 if ag.y < 0 else ag.y\n",
    " \n",
    "    # Move coyotes to a nearby rabbit\n",
    "    for coyote in coyotes:\n",
    "        reachable_rabbits = [nb for nb in rabbits if (coyote.x - nb.x)**2 +(coyote.y - nb.y)**2 < mc**2]\n",
    "        reachable_count = len(reachable_rabbits)\n",
    "        \n",
    "        # No reachable rabbits? Move toward fat coyotes\n",
    "        if reachable_count == 0:\n",
    "            coyote.x = 0.9 * coyote.x + 0.1 * center_x\n",
    "            coyote.y = 0.9 * coyote.y + 0.1 * center_y\n",
    "        else:\n",
    "            if reachable_count ==  1:\n",
    "                target = reachable_rabbits[0]\n",
    "            if reachable_count > 1:\n",
    "                target = reachable_rabbits[randint(0, reachable_count - 1)]\n",
    "\n",
    "            coyote.x = target.x\n",
    "            coyote.y = target.y\n",
    "  \n",
    "    # Feed the coyotes\n",
    "    for coyote in coyotes:\n",
    "\n",
    "        # Burn one rabbit\n",
    "        coyote.unburned_rabbits = coyote.unburned_rabbits - 1\n",
    "            \n",
    "        # Find the rabbits that are nearby\n",
    "        near_rabbits = [nb for nb in rabbits if (coyote.x - nb.x)**2 +(coyote.y - nb.y)**2 < cdsq]\n",
    "        \n",
    "        # How many rabbits will the coyote eat?\n",
    "        to_eat = min(cc - coyote.unburned_rabbits, len(near_rabbits))\n",
    "        \n",
    "        # Eat them\n",
    "        while to_eat > 0:\n",
    "            rabbit_to_eat = near_rabbits[0]\n",
    "            rabbits.remove(rabbit_to_eat)\n",
    "            del near_rabbits[0]\n",
    "            coyote.unburned_rabbits += 1\n",
    "            to_eat = to_eat - 1\n",
    "            \n",
    "\n",
    "    # Kill hungry coyotes\n",
    "    i = 0\n",
    "    while i < len(coyotes):\n",
    "        coyote = coyotes[i]\n",
    "        \n",
    "        # Empty belly for eight days? Coyote dies\n",
    "        if coyote.unburned_rabbits < -8:\n",
    "            del coyotes[i]\n",
    "            continue\n",
    "        \n",
    "        # Less? Coyote has a chance\n",
    "        if coyote.unburned_rabbits <= 0:\n",
    "            if random() < dc:\n",
    "                del coyotes[i]\n",
    "            else:\n",
    "                i += 1\n",
    "        else:\n",
    "            i += 1\n",
    "    \n",
    "    # Reproduce fed coyotes\n",
    "    for coyote in coyotes:\n",
    "        \n",
    "        if coyote.unburned_rabbits > 0 and random() < rc:\n",
    "            ag = Coyote()\n",
    "            ag.unburned_rabbits = 0 #Born hungry\n",
    "            ag.birthday = 0 # FIXME\n",
    "            ag.x = coyote.x + 10.0 * random()\n",
    "            ag.y = coyote.y + 10.0 * random()\n",
    "            new_coyotes.append(ag)            \n",
    "    \n",
    "    # Reproduce uneated rabbits\n",
    "    growth_rate = 1 - len(rabbits)/nr;\n",
    "    for rabbit in rabbits:\n",
    "          if random() < rr * growth_rate:\n",
    "            ag = Rabbit()\n",
    "            ag.birthday = 0 # FIXME\n",
    "            ag.x = rabbit.x + 10.0 * random()\n",
    "            ag.y = rabbit.y + 10.0 * random()\n",
    "            new_rabbits.append(ag)            \n",
    "    \n",
    "    # Update arrays\n",
    "    coyotes.extend(new_coyotes)\n",
    "    rabbits.extend(new_rabbits)\n",
    "\n",
    "\n",
    "def observe():\n",
    "    global agents, rdata, cdata, width, height\n",
    "    cla()\n",
    "    \n",
    "    subplot(1, 2 , 1)\n",
    "    cla()\n",
    "\n",
    "    rdata.append(len(rabbits))\n",
    "    if len(rabbits) > 0:\n",
    "        x = [ag.x for ag in rabbits]\n",
    "        y = [ag.y for ag in rabbits]\n",
    "        plot(x,y,'k.')\n",
    "\n",
    "    cdata.append(len(coyotes))\n",
    "    if len(coyotes) > 0:\n",
    "        x = [ag.x for ag in coyotes]\n",
    "        y = [ag.y for ag in coyotes]\n",
    "        plot(x,y,'ro')\n",
    "    axis('image')\n",
    "    axis([0,width,0,height])\n",
    "    summary = \"Rabbits: {}  Coyotes: {}\".format(len(rabbits), len(coyotes))\n",
    "    \n",
    "    p = subplot(1, 2, 2)\n",
    "    cla()\n",
    "    plot(rdata, label ='prey')\n",
    "    plot(cdata, label = 'predator')\n",
    "    p.set_title(summary)\n",
    "\n",
    "    legend()\n",
    "    \n",
    "# Parameter setters\n",
    "def initial_rabbit_count (val = r_init):\n",
    "    '''\n",
    "    Initial rabbit population\n",
    "    '''\n",
    "    global r_init\n",
    "    r_init = int(val) # or int(val), str(val), etc.\n",
    "    return val\n",
    "\n",
    "def initial_coyote_count (val = c_init):\n",
    "    '''\n",
    "    Initial coyote population\n",
    "    '''\n",
    "    global c_init\n",
    "    c_init = int(val) # or int(val), str(val), etc.\n",
    "    return val\n",
    "\n",
    "def rabbit_capacity (val = nr):\n",
    "    '''\n",
    "    Max rabbit population\n",
    "    '''\n",
    "    global nr\n",
    "    nr = int(val) # or int(val), str(val), etc.\n",
    "    return val\n",
    "\n",
    "\n",
    "def rabbit_reproduction (val = rr ):\n",
    "    '''\n",
    "    Probability that a rabbit will give birth any particular day\n",
    "    '''\n",
    "    global r\n",
    "    rr = float(val) # or int(val), str(val), etc.\n",
    "    return val\n",
    "\n",
    "def coyote_death_rate (val = dc ):\n",
    "    '''\n",
    "    Probability that a coyote will die on a day it is not near any rabbits\n",
    "    '''\n",
    "    global dc\n",
    "    dc = float(val) # or int(val), str(val), etc.\n",
    "    return val\n",
    "\n",
    "def coyote_birth_rate (val = rc):\n",
    "    '''\n",
    "    Probability that a coyote will give birth on any particular day\n",
    "    '''\n",
    "    global rc\n",
    "    rc = float(val) # or int(val), str(val), etc.\n",
    "    return val\n",
    "\n",
    "\n",
    "                \n",
    "pycxsimulator.GUI(parameterSetters = [initial_rabbit_count, initial_coyote_count, rabbit_capacity, rabbit_reproduction, coyote_death_rate, coyote_birth_rate]).start(func = [initialize, observe, update_one_unit_time])\n",
    "\n"
   ]
  },
  {
   "cell_type": "code",
   "execution_count": null,
   "metadata": {},
   "outputs": [],
   "source": []
  },
  {
   "cell_type": "code",
   "execution_count": null,
   "metadata": {},
   "outputs": [],
   "source": []
  }
 ],
 "metadata": {
  "anaconda-cloud": {},
  "kernelspec": {
   "display_name": "Python 3",
   "language": "python",
   "name": "python3"
  },
  "language_info": {
   "codemirror_mode": {
    "name": "ipython",
    "version": 3
   },
   "file_extension": ".py",
   "mimetype": "text/x-python",
   "name": "python",
   "nbconvert_exporter": "python",
   "pygments_lexer": "ipython3",
   "version": "3.7.3"
  }
 },
 "nbformat": 4,
 "nbformat_minor": 4
}
