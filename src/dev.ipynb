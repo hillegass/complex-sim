{
 "cells": [
  {
   "cell_type": "markdown",
   "metadata": {},
   "source": [
    "# Simulating a Predator and Prey Relationship\n",
    "\n",
    "Without a predator, rabbits will reproduce until they reach the carrying capacity of the land. When coyotes show up, they will eat the rabbits and reproduce until they can't find enough rabbits. We will explore the fluctuations in the two populations over time."
   ]
  },
  {
   "cell_type": "markdown",
   "metadata": {},
   "source": [
    "# Using Lotka-Volterra Model"
   ]
  },
  {
   "cell_type": "markdown",
   "metadata": {},
   "source": [
    "## Part 1: Rabbits without predators\n",
    "\n",
    "According to [Mother Earth News](https://www.motherearthnews.com/homesteading-and-livestock/rabbits-on-pasture-intensive-grazing-with-bunnies-zbcz1504), a rabbit eats six square feet of pasture per day. Let's assume that our rabbits live in a five acre clearing in a forest: 217,800 square feet/6 square feet = 36,300 rabbit-days worth of food. For simplicity, let's assume the grass grows back in two months. Thus, the carrying capacity of five acres is 36,300/60 = 605 rabbits.\n",
    "\n",
    "Female rabbits reproduce about six to seven times per year. They have six to ten children in a litter.  According to [Wikipedia](https://en.wikipedia.org/wiki/Rabbit), a wild rabbit reaches sexual maturity when it is about six months old and typically lives one to two years. For simplicity, let's assume that in the presence of unlimited food, a rabbit lives forever, is immediately sexually mature, and has 1.5 children every month.\n",
    "\n",
    "For our purposes, then, let $x_t$ be the number of rabbits in our five acre clearing on month $t$.\n",
    "$$\n",
    "\\begin{equation*}\n",
    "  R_t = R_{t-1} + 1.5\\frac{605 - R_{t-1}}{605} R_{t-1}\n",
    "\\end{equation*}\n",
    "$$\n",
    "\n",
    "The formula could be put into general form\n",
    "$$\n",
    "\\begin{equation*}\n",
    "  R_t = R_{t-1} + growth_{R} \\times \\big( \\frac{capacity_{R} - R_{t-1}}{capacity_{R}} \\big) R_{t-1}\n",
    "\\end{equation*}\n",
    "$$\n",
    "\n",
    "By doing this, we allow users to interact with growth rate and the capacity value visualize different interaction \n"
   ]
  },
  {
   "cell_type": "code",
   "execution_count": 1,
   "metadata": {},
   "outputs": [],
   "source": [
    "from __future__ import print_function\n",
    "from ipywidgets import interact, interactive, fixed, interact_manual\n",
    "from IPython.display import display, clear_output\n",
    "import ipywidgets as widgets\n",
    "import matplotlib.pyplot as plt\n",
    "import numpy as np"
   ]
  },
  {
   "cell_type": "code",
   "execution_count": 2,
   "metadata": {
    "scrolled": false
   },
   "outputs": [
    {
     "data": {
      "application/vnd.jupyter.widget-view+json": {
       "model_id": "a5d74396a23d47988f8c86c10a9f8799",
       "version_major": 2,
       "version_minor": 0
      },
      "text/plain": [
       "FloatText(value=1.0, description='Initial population', style=DescriptionStyle(description_width='initial'))"
      ]
     },
     "metadata": {},
     "output_type": "display_data"
    },
    {
     "data": {
      "application/vnd.jupyter.widget-view+json": {
       "model_id": "1a7d833a045d450a9050676718e58bb5",
       "version_major": 2,
       "version_minor": 0
      },
      "text/plain": [
       "FloatText(value=605.0, description='Capacity')"
      ]
     },
     "metadata": {},
     "output_type": "display_data"
    },
    {
     "data": {
      "application/vnd.jupyter.widget-view+json": {
       "model_id": "24b0d7d942994ba9a7746c7734fcf3c6",
       "version_major": 2,
       "version_minor": 0
      },
      "text/plain": [
       "FloatText(value=1.5, description='Growth rate')"
      ]
     },
     "metadata": {},
     "output_type": "display_data"
    },
    {
     "data": {
      "application/vnd.jupyter.widget-view+json": {
       "model_id": "166ffc3c533b4ee38b2b431a60291031",
       "version_major": 2,
       "version_minor": 0
      },
      "text/plain": [
       "Button(description='Plot Graph', style=ButtonStyle())"
      ]
     },
     "metadata": {},
     "output_type": "display_data"
    }
   ],
   "source": [
    "%matplotlib inline\n",
    "style = {'description_width': 'initial'}\n",
    "capacity_R = widgets.FloatText(description=\"Capacity\", value=605)\n",
    "growth_rate_R = widgets.FloatText(description=\"Growth rate\", value=1.5)\n",
    "initial_R = widgets.FloatText(description=\"Initial population\",style=style, value=1)\n",
    "button_R = widgets.Button(description=\"Plot Graph\")\n",
    "display(initial_R, capacity_R, growth_rate_R, button_R)\n",
    "\n",
    "def plot_graph_r(b):\n",
    "    print(\"helo\")\n",
    "    clear_output()\n",
    "    display(initial_R, capacity_R, growth_rate_R, button_R)\n",
    "    fig = plt.figure()\n",
    "    ax = fig.add_subplot(111)\n",
    "    t = np.arange(0, 20, 1)\n",
    "    s = np.zeros(t.shape)\n",
    "    R = initial_R.value\n",
    "    for i in range(t.shape[0]):\n",
    "        s[i] = R\n",
    "        R = R + growth_rate_R.value * (capacity_R.value - R)/(capacity_R.value) * R\n",
    "        \n",
    "    ax.plot(t, s)\n",
    "    ax.set(xlabel='time (months)', ylabel='rabbits',\n",
    "       title='Rabbits Without Predators')\n",
    "    ax.grid()\n",
    "\n",
    "button_R.on_click(plot_graph_r)"
   ]
  },
  {
   "cell_type": "markdown",
   "metadata": {},
   "source": [
    "## Part 2: Coyotes without preys\n",
    "According to [Huntwise](https://www.besthuntingtimes.com/blog/2020/2/3/why-you-should-coyote-hunt-how-to-get-started), coyotes need to consume about 2-3 pounds of food per day. Their diet is 90 percent mammalian. The perfect adult cottontail rabbits weigh 2.6 pounds on average. Thus, we assume the coyote eats one rabbit per day. \n",
    "\n",
    "For coyotes, the breeding season is in February and March. According to [Wikipedia](https://en.wikipedia.org/wiki/Coyote#Social_and_reproductive_behaviors), females have a gestation period of 63 days, with an average litter size of 6, though the number fluctuates depending on coyote population density and the abundance of food. By fall, the pups are old enough to hunt for themselves.\n",
    "\n",
    "In the absence of rabbits, the number of coyotes will drop, as their food supply is scarce.\n",
    "The formula could be put into general form:\n",
    "\n",
    "$$\n",
    "\\begin{align*}\n",
    "  C_t & \\sim (1 - death_{C}) \\times C_{t-1}\\\\\n",
    "  &= C_{t-1} - death_{C} \\times C_{t-1}\n",
    "\\end{align*}\n",
    "$$\n",
    "\n"
   ]
  },
  {
   "cell_type": "code",
   "execution_count": 3,
   "metadata": {
    "scrolled": false
   },
   "outputs": [
    {
     "data": {
      "application/vnd.jupyter.widget-view+json": {
       "model_id": "e044b5d343ad47a2a6d82b0e35d8105f",
       "version_major": 2,
       "version_minor": 0
      },
      "text/plain": [
       "FloatText(value=200.0, description='Initial Population', style=DescriptionStyle(description_width='initial'))"
      ]
     },
     "metadata": {},
     "output_type": "display_data"
    },
    {
     "data": {
      "application/vnd.jupyter.widget-view+json": {
       "model_id": "578e4fa1279f4f18a44fd0e5aa0644da",
       "version_major": 2,
       "version_minor": 0
      },
      "text/plain": [
       "FloatText(value=0.5, description='Death rate')"
      ]
     },
     "metadata": {},
     "output_type": "display_data"
    },
    {
     "data": {
      "application/vnd.jupyter.widget-view+json": {
       "model_id": "4118eabe9aa84872a0ba80a665254469",
       "version_major": 2,
       "version_minor": 0
      },
      "text/plain": [
       "Button(description='Plot Graph', style=ButtonStyle())"
      ]
     },
     "metadata": {},
     "output_type": "display_data"
    }
   ],
   "source": [
    "%matplotlib inline\n",
    "style = {'description_width': 'initial'}\n",
    "initial_C=widgets.FloatText(description=\"Initial Population\",style=style,value=200.0)\n",
    "declining_rate_C=widgets.FloatText(description=\"Death rate\",value=0.5)\n",
    "button_C=widgets.Button(description=\"Plot Graph\")\n",
    "display(initial_C, declining_rate_C, button_C)\n",
    "\n",
    "def plot_graph_c(b):\n",
    "    clear_output()\n",
    "    display(initial_C, declining_rate_C, button_C)\n",
    "    fig = plt.figure()\n",
    "    ax = fig.add_subplot(111)\n",
    "    t1 = np.arange(0, 20, 1)\n",
    "    s1 = np.zeros(t1.shape)\n",
    "    C = initial_C.value\n",
    "    for i in range(t1.shape[0]):\n",
    "        s1[i] = C\n",
    "        C = (1 - declining_rate_C.value)*C\n",
    "        \n",
    "    ax.plot(t1, s1)\n",
    "    ax.set(xlabel='time (months)', ylabel='rabbits',\n",
    "       title='Rabbits Without Predators')\n",
    "    ax.grid()\n",
    "\n",
    "button_C.on_click(plot_graph_c)\n"
   ]
  },
  {
   "cell_type": "markdown",
   "metadata": {},
   "source": [
    "## Part 3: Interaction Between Coyotes and Rabbit\n",
    "With the simple interaction from the first two parts, now we can combine both interaction and come out with simple interaction.\n",
    "$$\n",
    "\\begin{align*}\n",
    "  R_t &= R_{t-1} + growth_{R} \\times \\big( \\frac{capacity_{R} - R_{t-1}}{capacity_{R}} \\big) R_{t-1} - death_{R}(C_{t-1})\\times R_{t-1}\\\\\\\\\n",
    "  C_t &= C_{t-1} - death_{C} \\times C_{t-1} + growth_{C}(R_{t-1}) \\times C_{t-1}\n",
    "\\end{align*}\n",
    "$$\n",
    "\n",
    "In equations above, death rate of rabbit is a function parameterized by the amount of coyote. Similarly, the growth rate of coyotes is a function parameterized by the amount of the rabbit.\n",
    "\n",
    "The death rate of the rabbit should be $0$ if there are no coyotes, while it should approach $1$ if there are many coyotes. One of the formula fulfilling this characteristics is hyperbolic function.\n",
    "\n",
    "$$\n",
    "\\begin{equation}\n",
    "death_R(C) = 1 - \\frac{1}{xC + 1}\n",
    "\\end{equation}\n",
    "$$\n",
    "\n",
    "where $x$ determines how quickly $death_R$ increases as the number of coyotes ($C$) increases. Similarly, the growth rate of the coyotes should be $0$ if there are no rabbits, while it should approach infinity if there are many rabbits. One of the formula fulfilling this characteristics is a linear function.\n",
    "\n",
    "$$\n",
    "\\begin{equation}\n",
    "growth_C(R) = yC\n",
    "\\end{equation}\n",
    "$$\n",
    "\n",
    "where $y$ determines how quickly $growth_C$ increases as number of rabbit ($R$) increases.\n",
    "\n",
    "Putting all together, the final equtions are\n",
    "\n",
    "$$\n",
    "\\begin{align*}\n",
    "  R_t &= R_{t-1} + growth_{R} \\times \\big( \\frac{capacity_{R} - R_{t-1}}{capacity_{R}} \\big) R_{t-1} - \\big( 1 - \\frac{1}{xC_{t-1} + 1} \\big)\\times R_{t-1}\\\\\\\\\n",
    "  C_t &= C_{t-1} - death_{C} \\times C_{t-1} + yR_{t-1}C_{t-1}\n",
    "\\end{align*}\n",
    "$$\n",
    "\n"
   ]
  },
  {
   "cell_type": "code",
   "execution_count": 4,
   "metadata": {
    "scrolled": false
   },
   "outputs": [
    {
     "data": {
      "application/vnd.jupyter.widget-view+json": {
       "model_id": "47f7752ac2054e639cbe94c9118f87b1",
       "version_major": 2,
       "version_minor": 0
      },
      "text/plain": [
       "FloatText(value=1.0, description='Initial Rabbit')"
      ]
     },
     "metadata": {},
     "output_type": "display_data"
    },
    {
     "data": {
      "application/vnd.jupyter.widget-view+json": {
       "model_id": "104c0ff6323642df8bdfbf195df4a186",
       "version_major": 2,
       "version_minor": 0
      },
      "text/plain": [
       "FloatText(value=1.0, description='Initial Coyote')"
      ]
     },
     "metadata": {},
     "output_type": "display_data"
    },
    {
     "data": {
      "application/vnd.jupyter.widget-view+json": {
       "model_id": "73156bf11d394620834764f7923df102",
       "version_major": 2,
       "version_minor": 0
      },
      "text/plain": [
       "FloatText(value=5.0, description='capacity_R')"
      ]
     },
     "metadata": {},
     "output_type": "display_data"
    },
    {
     "data": {
      "application/vnd.jupyter.widget-view+json": {
       "model_id": "24e0da78526c4f86887c7ddd0107a2f7",
       "version_major": 2,
       "version_minor": 0
      },
      "text/plain": [
       "FloatText(value=1.0, description='growth_R')"
      ]
     },
     "metadata": {},
     "output_type": "display_data"
    },
    {
     "data": {
      "application/vnd.jupyter.widget-view+json": {
       "model_id": "abf2554d5aa2409a9ea4aec65fdc34c2",
       "version_major": 2,
       "version_minor": 0
      },
      "text/plain": [
       "FloatText(value=1.0, description='death_C')"
      ]
     },
     "metadata": {},
     "output_type": "display_data"
    },
    {
     "data": {
      "application/vnd.jupyter.widget-view+json": {
       "model_id": "8e786bb8be3c4e018bcfa5cb14fc238f",
       "version_major": 2,
       "version_minor": 0
      },
      "text/plain": [
       "FloatText(value=1.0, description='x')"
      ]
     },
     "metadata": {},
     "output_type": "display_data"
    },
    {
     "data": {
      "application/vnd.jupyter.widget-view+json": {
       "model_id": "e413ed3f9fef4717ab16c04db5297a40",
       "version_major": 2,
       "version_minor": 0
      },
      "text/plain": [
       "FloatText(value=1.0, description='y')"
      ]
     },
     "metadata": {},
     "output_type": "display_data"
    },
    {
     "data": {
      "application/vnd.jupyter.widget-view+json": {
       "model_id": "74e9f6cf79294c29b8dab1cdcab667b6",
       "version_major": 2,
       "version_minor": 0
      },
      "text/plain": [
       "Button(description='Plot Graph', style=ButtonStyle())"
      ]
     },
     "metadata": {},
     "output_type": "display_data"
    },
    {
     "data": {
      "image/png": "[encoded data removed]",
      "text/plain": [
       "<Figure size 432x288 with 1 Axes>"
      ]
     },
     "metadata": {
      "needs_background": "light"
     },
     "output_type": "display_data"
    }
   ],
   "source": [
    "%matplotlib inline\n",
    "initial_rabbit = widgets.FloatText(description=\"Initial Rabbit\", value=1)\n",
    "initial_coyote = widgets.FloatText(description=\"Initial Coyote\", value=1)\n",
    "capacity = widgets.FloatText(description=\"capacity_R\", value=5)\n",
    "growth_rate = widgets.FloatText(description=\"growth_R\", value=1)\n",
    "death_rate = widgets.FloatText(description=\"death_C\", value=1)\n",
    "x = widgets.FloatText(description=\"x\", value=1)\n",
    "y = widgets.FloatText(description=\"y\", value=1)\n",
    "button = widgets.Button(description=\"Plot Graph\")\n",
    "display(initial_rabbit, initial_coyote, capacity, growth_rate, death_rate, x, y, button)\n",
    "def plot_graph(b):\n",
    "    clear_output()\n",
    "    display(initial_rabbit, initial_coyote, capacity, growth_rate, death_rate, x, y, button)\n",
    "    fig = plt.figure()\n",
    "    ax = fig.add_subplot(111)\n",
    "    t = np.arange(0, 20, 0.5)\n",
    "    s = np.zeros(t.shape)\n",
    "    p = np.zeros(t.shape)\n",
    "    R = initial_rabbit.value\n",
    "    C = initial_coyote.value\n",
    "    for i in range(t.shape[0]):\n",
    "        s[i] = R\n",
    "        p[i] = C\n",
    "        R = R + growth_rate.value * (capacity.value - R)/(capacity.value) * R - (1 - 1/(x.value*C + 1))*R\n",
    "        C = C - death_rate.value * C  + y.value*s[i]*C\n",
    "        \n",
    "    ax.plot(t, s, label=\"rabit\")\n",
    "    ax.plot(t, p, label=\"coyote\")\n",
    "    ax.set(xlabel='time (months)', ylabel='rabbits',\n",
    "       title='Coyotes Rabbit Predator Prey Relationship')\n",
    "    ax.grid()\n",
    "    ax.legend()\n",
    "\n",
    "button.on_click(plot_graph)"
   ]
  },
  {
   "cell_type": "markdown",
   "metadata": {},
   "source": [
    "## Using ABM simulation\n",
    "In ABMs of ecological and evolutionary dynamics, prey naturally grow but get eaten by predators, while the predators grow if they get prey, but naturally die off if they can't find any food. \n",
    "In our ABM simulation model, we will randomly choosing an agent to update the system's state in an asynchronous manner.\n",
    "### Design the data structure to store the attributes of the the prey and predators\n",
    "The information about about agent type must be represented in the data structure, also in order to simulate the interactions in a spacel, the information about the agents spatial location is also needed. In the code, we use r_init and c_init to represent the initial population of rabbits and coyotes. The for loop iterates r_init + c_init times, and in the first r_init iteration, the prey agents are generated, while the predator agents are generated for the rest."
   ]
  },
  {
   "cell_type": "code",
   "execution_count": 1,
   "metadata": {},
   "outputs": [],
   "source": [
    "r_init = 100 # initial rabbit population \n",
    "c_init = 30 #initial coyotes population\n",
    "\n",
    "class agent:\n",
    "    pass\n",
    "\n",
    "def initialize():\n",
    "    global agents,rdata, cdata\n",
    "    agents = []\n",
    "    rdata = []\n",
    "    cdata = []\n",
    "    for i in range(r_init + c_init):\n",
    "        ag = agent()\n",
    "        ag.type = 'r' if i < r_init else 'c'\n",
    "        ag.x = random()\n",
    "        ag.y = random()\n",
    "        agents.append(ag)\n",
    "        "
   ]
  },
  {
   "cell_type": "markdown",
   "metadata": {},
   "source": [
    "### The rules for how prey and predators behave on their own:\n",
    "If a prey agent meets a predator agent, it dies with some probability because of predation. We will implement death as the removal of the prey from the preys agents list.\n",
    "If a predator agent can't find any prey agents nearby, it dies with some probability because of the lack of food. Otherwise, it will reproduce at a certain reproduction rate. \n",
    "According to [Purely Facts](http://purelyfacts.com/question/12/which-is-faster-a-coyote-or-a-rabbit?DDA=28&DDB=98),  the top speed is roughly 64 kph for coyote, and 4 kph for rabbit, so let's assume coyotes are 15 times faster than rabbit. Furthermore, to ensure our simulation model can naturally handle situations where the size of the agent population changes rapidly, and guarantees that each agent is updated once, on average, in each unit time length, we defined a update_one_unit_time() function to address the issue. We make the unit length of time passes by in each asynchronous updating proportional to the size of the agent populationat the time of updating. This way, the progress of time will be steady in the simulation, even if the number of agents changes over time."
   ]
  },
  {
   "cell_type": "code",
   "execution_count": 2,
   "metadata": {},
   "outputs": [],
   "source": [
    "import matplotlib\n",
    "matplotlib.use('TkAgg')\n",
    "from pylab import *\n",
    "import copy as cp\n",
    "\n",
    "nr = 605 # capacity of rabbits\n",
    "\n",
    "mr = 0.03 # magnitude of movement of rabbits\n",
    "dr = 0.95 #death rate of rabbits when it faces coyotes\n",
    "rr = 0.1 # reproduction rate of rabbits\n",
    "\n",
    "mc = mr * 15 # magnitude of movement of coyotes\n",
    "dc = 0.1 # death rate of coyotes when there is no rabbit\n",
    "rc = 0.6 # reproductioin rate of coyotes\n",
    "\n",
    "cd = 0.05 # radius for collision detection\n",
    "cdsq = cd**2\n",
    "\n",
    "def update():\n",
    "    global agents\n",
    "    if agents == []: # Avoiding the possibility for all agents to die out in ecological ABMs\n",
    "        return\n",
    "    ag = agents[randint(len(agents))]\n",
    "    \n",
    "    #simulating random movement\n",
    "    m = mr if ag.type == 'r' else mc\n",
    "    ag.x += uniform(-m, m)\n",
    "    ag.y += uniform(-m, m)\n",
    "    ag.x = 1 if ag.x > 1 else 0 if ag.x < 0 else ag.x\n",
    "    ag.y = 1 if ag.y > 1 else 0 if ag.y < 0 else ag.y\n",
    "    \n",
    "    # Detecting collision and simulating death or birth\n",
    "    neighbors = [nb for nb in agents if (ag.x - nb.x)**2 +(ag.y - nb.y)**2 < cdsq and nb.type != ag.type]\n",
    "    if ag.type == 'r':\n",
    "        if len(neighbors) > 0: #if there are coyotes nearby\n",
    "            if random() < dr:\n",
    "                agents.remove(ag)\n",
    "                return\n",
    "        if random() < rr * (1 - sum([1 for x in agents if x.type == 'r'])/nr):\n",
    "            #The logistic-type growth restriction is implemented \n",
    "            agents.append(cp.copy(ag))\n",
    "            return\n",
    "        \n",
    "        \n",
    "    else:\n",
    "        if len(neighbors) == 0: # If there are no rabbits nearby\n",
    "            if random() < dc:\n",
    "                agents.remove(ag)\n",
    "                return\n",
    "        else:\n",
    "            if random() < rc:\n",
    "                agents.append(cp.copy(ag))\n",
    "                return\n",
    "\n",
    "\n",
    "def observe():\n",
    "    global agents, rdata, cdata\n",
    "    cla()\n",
    "    subplot(1, 2 , 1)\n",
    "    rabbits = [ag for ag in agents if ag.type == 'r']\n",
    "    rdata.append(len(rabbits))\n",
    "    if len(rabbits) > 0:\n",
    "        x = [ag.x for ag in rabbits]\n",
    "        y = [ag.y for ag in rabbits]\n",
    "        plot(x,y,'k.')\n",
    "    coyotes = [ag for ag in agents if ag.type == 'c']\n",
    "    cdata.append(len(coyotes))\n",
    "    if len(coyotes) > 0:\n",
    "        x = [ag.x for ag in coyotes]\n",
    "        y = [ag.y for ag in coyotes]\n",
    "        plot(x,y,'ro')\n",
    "    axis('image')\n",
    "    axis([0,1,0,1])\n",
    "    \n",
    "    subplot(1, 2, 2)\n",
    "    cla()\n",
    "    plot(rdata, label ='prey')\n",
    "    plot(cdata, label = 'predator')\n",
    "    legend()\n",
    "                \n",
    "def update_one_unit_time():\n",
    "    global agents\n",
    "    t = 0\n",
    "    while t < 1:\n",
    "        t += 1.0 / len(agents)\n",
    "        update()\n",
    "        \n",
    "\n"
   ]
  },
  {
   "cell_type": "code",
   "execution_count": 2,
   "metadata": {},
   "outputs": [],
   "source": [
    "import pycxsimulator\n",
    "pycxsimulator.GUI().start(func = [initialize, observe, update_one_unit_time])"
   ]
  },
  {
   "cell_type": "code",
   "execution_count": null,
   "metadata": {},
   "outputs": [],
   "source": []
  }
 ],
 "metadata": {
  "anaconda-cloud": {},
  "kernelspec": {
   "display_name": "Python 3",
   "language": "python",
   "name": "python3"
  },
  "language_info": {
   "codemirror_mode": {
    "name": "ipython",
    "version": 3
   },
   "file_extension": ".py",
   "mimetype": "text/x-python",
   "name": "python",
   "nbconvert_exporter": "python",
   "pygments_lexer": "ipython3",
   "version": "3.7.3"
  }
 },
 "nbformat": 4,
 "nbformat_minor": 4
}
